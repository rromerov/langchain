{
 "cells": [
  {
   "cell_type": "markdown",
   "id": "0a211ace",
   "metadata": {},
   "source": [
    "# Calling a Subgraph with a Function"
   ]
  },
  {
   "cell_type": "code",
   "execution_count": null,
   "id": "42ed9874",
   "metadata": {},
   "outputs": [],
   "source": [
    "from langgraph.graph import START, StateGraph\n",
    "from typing import TypedDict"
   ]
  },
  {
   "cell_type": "code",
   "execution_count": null,
   "id": "6900a4b4",
   "metadata": {},
   "outputs": [],
   "source": [
    "class State(TypedDict):\n",
    "    foo: str\n",
    "\n",
    "class SubgraphState(TypedDict):\n",
    "    # none of these keys are shared with the parent graph state\n",
    "    bar: str\n",
    "    baz: str\n",
    "\n",
    "# Define subgraph\n",
    "def subgraph_node(state: SubgraphState):\n",
    "    return {\"bar\": state[\"bar\"] + \"baz\"}\n",
    "\n",
    "subgraph_builder = StateGraph(SubgraphState)\n",
    "subgraph_builder.add_node(subgraph_node)\n",
    "...\n",
    "subgraph = subgraph_builder.compile()\n",
    "\n",
    "# Define parent graph\n",
    "def node(state: State):\n",
    "    # transform the state to the subgraph state\n",
    "    response = subgraph.invoke({\"bar\": state[\"foo\"]})\n",
    "    # transform response back to the parent state\n",
    "    return {\"foo\": response[\"bar\"]}\n",
    "\n",
    "builder = StateGraph(State)\n",
    "# note than we are using `node` function instead of a compiled subgraph\n",
    "builder.add_node(node)\n",
    "...\n",
    "graph = builder.compile()"
   ]
  },
  {
   "cell_type": "markdown",
   "id": "08424b95",
   "metadata": {},
   "source": [
    "Let's go back to the [main file](../README.md#multi-agent-architectures)"
   ]
  }
 ],
 "metadata": {
  "kernelspec": {
   "display_name": ".env",
   "language": "python",
   "name": "python3"
  },
  "language_info": {
   "codemirror_mode": {
    "name": "ipython",
    "version": 3
   },
   "file_extension": ".py",
   "mimetype": "text/x-python",
   "name": "python",
   "nbconvert_exporter": "python",
   "pygments_lexer": "ipython3",
   "version": "3.12.3"
  }
 },
 "nbformat": 4,
 "nbformat_minor": 5
}
