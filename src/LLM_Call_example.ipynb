{
 "cells": [
  {
   "cell_type": "markdown",
   "id": "e03f49f4",
   "metadata": {},
   "source": [
    "# LLM Call"
   ]
  },
  {
   "cell_type": "code",
   "execution_count": 5,
   "id": "85eaab1f",
   "metadata": {},
   "outputs": [],
   "source": [
    "from typing import Annotated, TypedDict\n",
    "\n",
    "from langgraph.graph import StateGraph, START, END\n",
    "from langgraph.graph.message import add_messages\n",
    "from langchain_openai import AzureChatOpenAI\n",
    "from langchain_core.messages import HumanMessage"
   ]
  },
  {
   "cell_type": "code",
   "execution_count": 3,
   "id": "62d76352",
   "metadata": {},
   "outputs": [],
   "source": [
    "model = AzureChatOpenAI(azure_deployment=\"gpt-4o\", api_version=\"2024-10-21\")\n",
    "\n",
    "class State(TypedDict):\n",
    "    messages: Annotated[list, add_messages]\n",
    "\n",
    "def chatbot(state: State):\n",
    "    answer = model.invoke(state[\"messages\"])\n",
    "    return {\"messages\": [answer]}\n",
    "\n",
    "builder = StateGraph(State)\n",
    "builder.add_node(\"chatbot\", chatbot)\n",
    "builder.add_edge(START, \"chatbot\")\n",
    "builder.add_edge(\"chatbot\",END)\n",
    "\n",
    "graph = builder.compile()"
   ]
  },
  {
   "cell_type": "code",
   "execution_count": 6,
   "id": "604671de",
   "metadata": {},
   "outputs": [
    {
     "name": "stdout",
     "output_type": "stream",
     "text": [
      "{'chatbot': {'messages': [AIMessage(content='Hello! 😊 How can I assist you today?', additional_kwargs={'refusal': None}, response_metadata={'token_usage': {'completion_tokens': 11, 'prompt_tokens': 9, 'total_tokens': 20, 'completion_tokens_details': {'accepted_prediction_tokens': 0, 'audio_tokens': 0, 'reasoning_tokens': 0, 'rejected_prediction_tokens': 0}, 'prompt_tokens_details': {'audio_tokens': 0, 'cached_tokens': 0}}, 'model_name': 'gpt-4o-2024-11-20', 'system_fingerprint': 'fp_ee1d74bde0', 'id': 'chatcmpl-BZiYvs9dR91EvmrwUFlwdPDKWlety', 'service_tier': None, 'prompt_filter_results': [{'prompt_index': 0, 'content_filter_results': {'hate': {'filtered': False, 'severity': 'safe'}, 'self_harm': {'filtered': False, 'severity': 'safe'}, 'sexual': {'filtered': False, 'severity': 'safe'}, 'violence': {'filtered': False, 'severity': 'safe'}}}], 'finish_reason': 'stop', 'logprobs': None, 'content_filter_results': {'hate': {'filtered': False, 'severity': 'safe'}, 'self_harm': {'filtered': False, 'severity': 'safe'}, 'sexual': {'filtered': False, 'severity': 'safe'}, 'violence': {'filtered': False, 'severity': 'safe'}}}, id='run--e2431ddf-4eef-4c39-bbe8-b132a67729c7-0', usage_metadata={'input_tokens': 9, 'output_tokens': 11, 'total_tokens': 20, 'input_token_details': {'audio': 0, 'cache_read': 0}, 'output_token_details': {'audio': 0, 'reasoning': 0}})]}}\n"
     ]
    }
   ],
   "source": [
    "input = {\"messages\": [HumanMessage(\"hi!\")]}\n",
    "for chunk in graph.stream(input):\n",
    "    print(chunk)"
   ]
  },
  {
   "cell_type": "markdown",
   "id": "b9234549",
   "metadata": {},
   "source": [
    "### Basic LLM Architecture: Single Call\n",
    "\n",
    "Notice that the input to the graph matched the structure of the `State` object defined earlier—in other words, a dictionary with a `messages` key containing a list of messages.\n",
    "\n",
    "This represents the **simplest architecture** for using an LLM.  \n",
    "While minimal, it’s by no means obsolete or impractical. In fact, this pattern is widely used in many real-world applications.\n",
    "\n",
    "#### Examples of where this simple pattern is used:\n",
    "\n",
    "- **AI-powered features** like *summarize* or *translate* (for example, in Notion or similar writing tools) often rely on a **single LLM call**.\n",
    "  \n",
    "- **Basic SQL generation** tasks may also use a **single LLM call**, especially when tailored for a specific user experience or a well-defined audience.\n",
    "\n",
    "Despite its simplicity, this approach can be highly effective when used in the right context.\n"
   ]
  },
  {
   "cell_type": "markdown",
   "id": "40704f17",
   "metadata": {},
   "source": [
    "Let's see the next architecture called [chain](LLM_chain.ipynb)"
   ]
  }
 ],
 "metadata": {
  "kernelspec": {
   "display_name": ".env",
   "language": "python",
   "name": "python3"
  },
  "language_info": {
   "codemirror_mode": {
    "name": "ipython",
    "version": 3
   },
   "file_extension": ".py",
   "mimetype": "text/x-python",
   "name": "python",
   "nbconvert_exporter": "python",
   "pygments_lexer": "ipython3",
   "version": "3.12.3"
  }
 },
 "nbformat": 4,
 "nbformat_minor": 5
}
