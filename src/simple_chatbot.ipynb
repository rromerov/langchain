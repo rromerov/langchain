{
 "cells": [
  {
   "cell_type": "markdown",
   "id": "70963848",
   "metadata": {},
   "source": [
    "# Simple Chatbot using LangGraph"
   ]
  },
  {
   "cell_type": "markdown",
   "id": "ee04ff68",
   "metadata": {},
   "source": [
    "Start by creating a **StateGraph**. We’ll add a node to represent the LLM call:"
   ]
  },
  {
   "cell_type": "code",
   "execution_count": 37,
   "id": "059f0e08",
   "metadata": {},
   "outputs": [],
   "source": [
    "from typing import Annotated, TypedDict\n",
    "\n",
    "from langgraph.graph import StateGraph, START, END\n",
    "from langgraph.graph.message import add_messages\n",
    "from langchain_core.messages import HumanMessage, AIMessage\n",
    "from langgraph.checkpoint.memory import MemorySaver\n",
    "\n",
    "\n",
    "class State(TypedDict):\n",
    "    # Messages have the type \"list\". The `add_messages` \n",
    "    # function in the annottion defines how this state should\n",
    "    # be updated (in this case, it appends new messages to the\n",
    "    # list, rather than replacing the previous messages)\n",
    "    messages: Annotated[list, add_messages]\n",
    "\n",
    "\n",
    "# The state consists of the shape, or schema, of the graph state, \n",
    "# as well as reducer functions that specify how to apply updates to the state\n",
    "builder = StateGraph(State)\n",
    "\n",
    "#So now our graph knows two things:\n",
    "\n",
    "#Every *node* we define will receive the current State as input and return a value\n",
    "# that updates that state. *messages* will be appended to the current list, rather than directly\n",
    "# overwritten. This is communicated via the prebuilt add_messages function in the Annotated\n",
    "# syntax in the Python example or the reducer function for the JavaScript example.\n",
    "\n",
    "# Nodes represents unit of work"
   ]
  },
  {
   "cell_type": "code",
   "execution_count": 38,
   "id": "b69969bb",
   "metadata": {},
   "outputs": [
    {
     "data": {
      "text/plain": [
       "<langgraph.graph.state.StateGraph at 0x72ac40e77c50>"
      ]
     },
     "execution_count": 38,
     "metadata": {},
     "output_type": "execute_result"
    }
   ],
   "source": [
    "from langchain_openai import AzureChatOpenAI\n",
    "\n",
    "model = AzureChatOpenAI(azure_deployment=\"gpt-4o\", api_version=\"2024-10-21\")\n",
    "\n",
    "def chatbot(state: State):\n",
    "    answer = model.invoke(state[\"messages\"])\n",
    "    return {\"messages\": [answer]}\n",
    "\n",
    "# The first argument is the unique node name\n",
    "# The second argument is the function or Runnable to run\n",
    "builder.add_node(\"chatbot\", chatbot)\n",
    "\n",
    "# This node receives the current state, does one LLM call, and then returns an update\n",
    "# to the state containing the new message produced by the LLM. The *add_messages* reducer\n",
    "# appends this message to the messages already in the state."
   ]
  },
  {
   "cell_type": "code",
   "execution_count": 39,
   "id": "c6baa77b",
   "metadata": {},
   "outputs": [],
   "source": [
    "builder.add_edge(START, \"chatbot\")\n",
    "builder.add_edge(\"chatbot\", END)\n",
    "\n",
    "# memory saver\n",
    "\n",
    "graph = builder.compile(checkpointer=MemorySaver())\n",
    "# This returns a runnable object with the same methods as the one\n",
    "# used in the previous code block. But now, it stores the state at\n",
    "# the end of each step, so every invocation after the first doesn’t\n",
    "# start from a blank slate. Any time the graph is called, it starts\n",
    "# by using the checkpointer to fetch the most recent saved state, if\n",
    "# any, and combines the new input with the previous state. And only\n",
    "# then does it execute the first nodes.\n",
    "\n",
    "# It tells the graph where to start its work each time you run it.\n",
    "\n",
    "# This instructs the graph where it should exit (this is optional, as LangGraph will stop execution once there’s no more nodes to run).\n",
    "\n",
    "# It compiles the graph into a runnable object, with the familiar invoke and stream methods."
   ]
  },
  {
   "cell_type": "markdown",
   "id": "b52a02f6",
   "metadata": {},
   "source": [
    "Show the graph:"
   ]
  },
  {
   "cell_type": "code",
   "execution_count": 40,
   "id": "99ed2f22",
   "metadata": {},
   "outputs": [
    {
     "data": {
      "text/plain": [
       "b'\\x89PNG\\r\\n\\x1a\\n\\x00\\x00\\x00\\rIHDR\\x00\\x00\\x00j\\x00\\x00\\x00\\xea\\x08\\x02\\x00\\x00\\x00\\xc5\\xf3G\\x18\\x00\\x00\\x10\\x00IDATx\\x9c\\xec\\x9d\\tXSW\\xbe\\xc0o\\xc8B\\xf6\\x04B\\x90]@\\x8a\\x0b\\xa2\\xa2 n\\xd4\\r\\xb7q\\xab\\xd5\\xb1jkk\\xfb|\\x8eK\\xdbg;\\xd5Q\\xdb\\xaau\\xab\\xdfT\\xab\\xdd\\\\Zk\\xeb\\xebhm\\xeb\\xb8\\x8b\\xc5\\xf6U\\xeb\\x8a\\xa2,V\\x11\\x11\\x10\\x90\\x1d\\x02!;Inx\\xff\\x90\\x9626\\xc9M8\\t\\rp~\\x9f\\x1f&\\xf7\\x9c\\x9b\\xe5\\x97\\xff=\\xf7,\\xf7\\x9e\\xc3hjj\"0m\\x85A`\\x10\\xc0\\xfa\\x90\\xc0\\xfa\\x90\\xc0\\xfa\\x90\\xc0\\xfa\\x90\\xc0\\xfa\\x90@\\xd5WY\\xa4S+H\\x9d\\x9a\\xd4iH\\xd2\\xd01\\xea@t&\\x8d\\xcd\\xa5\\xb3yt\\xbe\\x88\\xde\\xad;\\x9b@\\x80\\xd6\\xb6z\\xdf\\xc3;\\xea\\xc2;\\xea\\x82\\xdb*\\x81\\x98!\\xf4e\\xc2Ga\\xf3\\xbc\\x98,/\\xa2#`\\xd0\\x9btj\\x93VM*d\\x06u\\x83\\xb1G\\x7f~d_^x\\x0c\\x8fp\\x1e\\xa7\\xf5U?j\\xbc\\xf0]\\xb5\\xa1\\xd1\\xd43^\\x185\\x80/\\x962\\x89\\x8e\\x8c\\xbc\\xc6\\xf0 Sy\\xff\\xa6\\xd2\\x9b\\xe35\\xea\\xaf\\xfe\\xd2\\x10o\\xa7vwB\\x1f\\x1c\\x9b\\x17\\x8f\\xd6\\x14\\xe7j\\x12\\'\\xfa\\xf6N\\x14\\x12\\x9d\\x8b\\xbb\\xd7\\x147\\xbe\\x97E\\xc6\\xf2G\\xce\\x92:\\xbe\\x97\\xa3\\xfa\\xb4*\\xf2\\xd4\\xa7\\xe5PR\\x8c\\x9c\\xe9\\xc4\\xabw,\\xcc\\xf1q\\xac\\xa6\\xb6\\xacq\\xca\\x7f\\x07q\\xf8tGvqH\\x9f\\xacB\\x7frO\\xd9\\x80Q>q\\xa3\\xc5Dg\\xe7\\xd6\\x8f\\xf5\\xb7/7L_\\x1c\\xe4\\x1b\\xc0\\xa2\\xccL\\xad\\x0f\\n\\xd7\\xc3\\xdb\\x1e%\\xcd\\xf0\\x8b\\x1e( \\xba\\x06P\\x14^=];\\xfb\\xf50\\x9e\\x90\"\\x06)\\xce\\x95F\\xbd\\xe9\\xe4\\xde\\xf2~I\\xa2\\xae\\xe3\\x0e\\xe8\\x19/\\x88\\x19*:\\xf5i\\x19i\\xa4\\x88-\\n}\\xd7\\xbf\\xaf\\x83sk\\xc2x_\\xa2\\x8b1x\\x82/_\\xcc\\xb8\\x91Zg?\\x9b=}\\r\\xb5\\x86\\xdcte\\xf2\\xb3\\x01D\\x97d\\xfcs\\x01\\xf7n(\\x94\\xf5F;y\\xec\\xe9\\xbb|\\xbc\\x16\\xe2\\x8e\\xc9\\xa2\\x11]\\x12\\x16\\xdbk\\xe0h\\x9fK\\xc7k\\xec\\xe4\\xb1\\xa9\\x0fB\\xaf\\xb6\\xa21v\\xb8\\x88\\xe8\\xc2\\xf4K\\x12W\\x157\\xda\\t@\\x9b\\xfa\\x1ed\\xaa\\xc0\\x1d\\xadc4\\xc3\\xdc\\x85\\x17\\x9d\\x00\\t\\xd0,\\xb1\\x99\\xc1VB~\\xb6\\xb2{\\xef\\xb64\\x03Q\\x185jTee%\\xe1$\\x87\\x0f\\x1f\\xde\\xb0a\\x03\\xe1\\x1e\\xba\\xf7\\xe6\\xe6g\\xa9l\\xa5Z\\xd7\\xa7\\x92\\x1b\\xb5JR\\x12H]ot!\\xa5\\xa5\\xa5*\\x95\\xca\\xf9\\xfd\\x88\\x9c\\x9c\\x1c\\xc2m@+XQg\\xb4u\\xfcZ\\xef\\xb0\\xaa(\\xd29\\xdbxv\\x1c\\xa8\\xa8\\x1f<x0%%\\xa5\\xb8\\xb8\\xb8G\\x8f\\x1eC\\x86\\x0cY\\xbcx\\xf1\\xad[\\xb7\\x96,Y\\x02\\xa9S\\xa6L\\x81\\x18\\xdc\\xb6m[~~\\xfe\\x91#G\\xd2\\xd3\\xd3!\\x1e!\\xdb\\xcc\\x993\\xa7O\\x9f\\x0e\\x19\\xf2\\xf2\\xf2\\xe6\\xcd\\x9b\\xf7\\xc1\\x07\\x1f\\xbc\\xf3\\xce;\\xfe\\xfe\\xfe\\x1c\\x0e\\'33\\x13\\xb6\\x9f<y\\xf2\\xd0\\xa1C\\xd1\\xd1\\xd1\\x84\\xab\\xf1\\x0f\\xf1\\x86\\x8e\\x12\\x81\\x8f\\x15W\\xd6\\xf55\\xaaI\\x8e\\xc0]=\\xa9\\xe0\\xee\\xc0\\x81\\x03\\x0b\\x16,\\x00)\\xe5\\xe5\\xe5\\x9f|\\xf2\\x89H$z\\xf6\\xd9gw\\xec\\xd8\\xf1\\xdak\\xaf\\x9d>}: \\xc0\\\\U\\xda\\xbe}{UU\\xd5\\xea\\xd5\\xabi4ZAA\\xc1\\xc6\\x8d\\x1b\\xc3\\xc2\\xc2\\xe2\\xe2\\xe2X,\\xf31\\xb1o\\xdf\\xbe\\x17_|\\xb1\\x7f\\xff\\xfe}\\xfa\\xf4y\\xfe\\xf9\\xe7\\xa3\\xa2\\xa2\\xd6\\xae]K\\xb8\\x07\\x8e\\x80\\xde\\xa8!\\xad&\\xd9\\xd0\\xa75q\\x1dk3\\xb7\\x81\\xac\\xac\\xac\\xbe}\\xfb\\x82/\\xcb\\xd3\\xf8\\xf8x\\xbd^\\xff\\xc7l[\\xb7n\\xd5h4\\x81\\x81\\x81\\x96<\\xc7\\x8e\\x1d\\xbbr\\xe5\\n\\xe8\\xb3\\xa4\\x0e\\x1b6l\\xee\\xdc\\xb9D\\xbb\\x00\\xdd\\x07 \\xc4j\\x92u}&S\\x13t\\xc9\\x12\\xee!66v\\xf7\\xee\\xdd\\x10M\\x83\\x06\\rJJJ\\x82\\x98\"\\xac\\x7f\\x06\\x13\\xc4\\xe9\\xd5\\xabWKJJ,[ \\xd0ZR{\\xf7\\xeeM\\xb4\\x17\\xd0\\rl\\xab\\xf5f]\\x1f\\x87G\\xaf\\xad\\xd0\\x13\\xee\\xe1\\xb9\\xe7\\x9e\\x13\\x08\\x04\\xe7\\xcf\\x9f\\x87\\xc3\\x8d\\xc1`L\\x9a4\\xe9\\xd5W_\\xf5\\xf1\\xf1i\\x9d\\x87$\\xc9W^y\\x05JI\\xf8;x\\xf0`\\x1e\\x8f\\x07{Y\\x92\\xe0X\\x86\\xbfl6R\\'\\xbbSh\\x94F\\xffP\\xebog]\\x1fW\\xc0\\xd0\\xe4i\\x08\\xf7@\\xa7\\xd3\\x9fn\\x06J\\xb4\\x1b7n\\xec\\xdd\\xbbW\\xa7\\xd3\\xbd\\xfb\\xee\\xbb\\xad\\xf3\\xc0\\xc9477\\x17\\x92 B-[ZN\\xca\\xed\\x7fU\\x89FAr\\x05\\xd6\\x8b2\\x1b\\xd1\\'\\xa0C\\xc5\\x85p\\x0fpr\\x88\\x89\\x89\\x89\\x88\\x88\\xe8\\xd1\\x8cL&\\xfb\\xf1\\xc7\\x1f\\x89\\xdf\\xc2\\xca\\x82Ri\\xae\\xa9J\\xa5\\xbfv\\xcd\\xde\\xbf\\x7f\\x1f\\xaa5-\\x05\\xdfc\\xb4\\xde\\xd1\\x1d\\xa8\\x95F\\xae\\xd0\\xba(\\xeb\\xf5>i\\xb07t\\xba\\x9aH\\xb7\\xfc\\xce\\xa0o\\xe5\\xca\\x95\\x97.]R(\\x14\\xf0\\xf7\\xe2\\xc5\\x8b\\xfd\\xfa\\xf5\\x83\\xed!!!\\xf0\\xf7\\xdc\\xb9sw\\xef\\xde\\x8d\\x8c\\x8c\\x04)P\\xf6A\\xd0\\x15\\x16\\x16B5%11\\xb1\\xa2\\xa2\\xc2\\xea\\x0b\\x06\\x07\\x07\\xdf\\xb9s\\xe7\\xe6\\xcd\\x9b\\xf5\\xf5\\xf5\\x84\\xab1\\x1a\\x9a\\xe4\\xd5\\x06[U`\\xeb\\xfa\\x18,Z`\\x04\\xa7(\\xc7-\\xc7\\xef\\xfa\\xf5\\xeb\\xe1t\\x01u\\x941c\\xc6l\\xde\\xbcy\\xdc\\xb8qk\\xd6\\xac\\x81\\xed\\xe1\\xe1\\xe1\\x13\\'N\\xdc\\xb5k\\xd7\\xc7\\x1f\\x7f\\x0cu\\x97M\\x9b6edd@\\x1dp\\xc5\\x8a\\x15P\\x02\\xce\\x981\\x03\\x04A\\x8d\\xef\\x8f/\\x08\\xe5\\x80\\xd1h\\\\\\xb6l\\x19T\\x15\\tWS\\x9c\\xa3\\x0e\\x8ad3l\\x9cHm\\xf66\\xdf\\xb9\\xd2P^\\xa8\\x1b?\\xbf\\x1b\\xd1\\xb5I\\xfd\\xdf\\xca\\xd0hn\\x9f!\\xd6\\x87\\xc6l\\xb6y\\xa3\\x07\\t\\x1e\\xe5i\\xec\\xf7vuz\\xe0\\xeb\\x97>\\xd0>a\\xbb\\xa7\\xdd\\xdeXG\\xf6E9\\x04\\xe0\\xa4\\x05\\xd6\\xbbK\\xcb\\xca\\xcaZ\\xaa\\xbe\\x8f\\xe1\\xe5\\xe5\\x05\\xb56\\xabI\\xb3g\\xcf^\\xbat)\\xe1\\x1e\\x96/_\\x0eur\\xabIb\\xb1X.\\x97[M\\x82\\x02d\\xf8\\xf0\\xe1V\\x93R\\xf6W\\x84<\\xc1\\x85\\xb1\\n\\xc2\\x06\\xf6\\xf4\\x99H\\xe2_[\\x8a\\x86O\\x97\\xf6\\xe8g\\xa5\\xeb\\x05\\x04\\xa9\\xd5j\\xab;BE\\xc4V\\xbd\\x8c\\xc9d\\xba\\xaf\\xca\\x06\\xad\\x14\\xa80ZM2\\x18\\x0c\\xf0\\xd6V\\x93\\xa0\\xd5\\x0c\\xd5\\xcf?n\\xcf\\xbb\\xa5\\xbc\\x96\"{\\xfe\\xcdp;\\xbdv\\xf6\\x1a\\xb6\\xd0\\xdb5\\xe9\\xc5\\xc0\\xe3\\xbb\\xcb|\\xbb\\x85\\xfat{\\xfc\\xbd!\\xc4\\xa0\\xf6kuG[\\xdb\\xdd\\r\\x97\\xcb%\\\\\\x04\\x8c\\xcd\\xfe|\\xb4\\xe6\\xa9%\\xc1\\xf6{<)\\xbaC\\xa1\\xdf\\x05\\xba\\xfc\\xcf|^\\xae\\xd7\\x99\\x88.\\x03|\\xd93\\xfb\\xca\\'-\\x08\\xa4\\xecvrh\\x98\\xfc\\xfe-e\\xd6\\x05\\xf9\\x94\\x85A<\\x91\\xbb\\xfa\\x11<\\x07\\xe8\\xeb<\\xf3yE\\xdch\\xb1#c\\xb3\\x8e^\\xa4QV\\xa0=\\xffM5D\\xa2\\x7f\\x98\\xbb\\xfa\\x01=\\x81\\xea\\x92\\xc6\\xd4\\xaf*\\x93\\xe7u\\x0b\\x8cp\\xa8\\x80v\\xe2\\x12!\\xe8t\\x85\\x91\\xe3\\x88\\x18>\\x8c\\x812:\\xdd\\xf0\\x9bA\\xdft\\xfd\\xac\\xec\\xd1}\\xcd\\xe4\\x85AB_G\\xfb:\\x9d\\xbb@\\x8d44\\xe5\\\\W\\xc0\\xb1\\xdcw\\x98\\xa8G?>\\xd3\\xbb3H44\\x9a\\xf2\\xb3Uw\\xaf)\\xfa$\\nmU\\x8fm\\xd1\\xc6\\xcb#\\x0b\\xef\\xa8\\x1f\\xfe\\xa2V\\xc9\\xa11\\xe8\\r\\xa3\\xf1\\xcd\\x97G\\xd2;\\xca\\x880\\x04\\x9a\\xf9rX5\\t\\xc5\\x1c\\x0c\\xc6\\n|\\x98\\x91\\xb1\\xbc\\x88\\xf6\\xb9<\\xf21*\\x1e\\xea\\xea*\\xf50(,\\xaf\\xd1\\xeb4.>;Cg\\x0c\\xfc\\x95H$\\x84Ka\\xf3\\xbc\\xc4~,\\x91\\x94)\\t`\\x05\\x84\\xff\\x19\\x17\\xe7\\xb6\\x0f\\xd0\\xdf\\x07\\xfd.\\x8b\\x16-\"<\\x15|e=\\x12X\\x1f\\x12X\\x1f\\x12X\\x1f\\x12X\\x1f\\x12X\\x1f\\x12X\\x1f\\x12X\\x1f\\x12X\\x1f\\x12X\\x1f\\x12X\\x1f\\x12X\\x1f\\x12X\\x1f\\x12X\\x1f\\x12X\\x1f\\x12X\\x1f\\x12X\\x1f\\x12X\\x1f\\x12X\\x1f\\x12X\\x1f\\x12X\\x1f\\x12X\\x1f\\x12X\\x1f\\x12X\\x1f\\x12X\\x1f\\x12X\\x1f\\x12X\\x1f\\x12X\\x1f\\x12X\\x1f\\x12X\\x1f\\x12X\\x1f\\x12X\\x1f\\x12X\\x1f\\x12X\\x1f\\x12X\\x1f\\x12X\\x1f\\x12X\\x1f\\x12X\\x1f\\x12X\\x1f\\x12X\\x1f\\x12\\x9ex[\\xcc\\xe4\\xc9\\x93I\\x92\\x84\\x0f\\xa6\\xd5j\\xe1)\\x8f\\xc7\\x83\\xa7L&\\xf3\\xcc\\x993\\x84\\x87\\xe1\\x89\\xd1\\x17\\x18\\x18\\x98\\x99\\x99\\xd92\\xb9\\x8d\\xe5\\x16\\xfb\\xf8\\xf8x\\xc2\\xf3\\xf0\\xc4\\xc95\\xe7\\xcc\\x99#\\x16\\xff\\xc7\\xf4\\xe4\\x12\\x89\\xa4e\\x0e+\\x8f\\xc2\\x13\\xf5%\\'\\'GEE\\xb5\\xde\\x12\\x1e\\x1e>r\\xe4H\\xc2\\xf3\\xf0\\xd0\\xa9]g\\xcf\\x9e-\\x12\\xfd:\\xfd\\x07D\\xa2\\xd5\\xc9\\x83<\\x01\\x0f\\xd57v\\xecX\\x888\\xcb\\xe3\\xee\\xdd\\xbb\\x8f\\x193\\x86\\xf0H<wb\\xe1g\\x9ey\\x86\\xd7\\x0c< <\\x15\\xa7\\xcf\\xbc\\xb2\\n\\xbdN\\xed\\xae\\xb9\\xe9Z\\x13\\x13\\x99\\xd4;|8\\x9dN\\x87\\x07e\\xf9Z\\xc2\\xfd\\xb0ytg\\'\\x0bv\\xb4\\xdeG\\x1a\\x9a\\xae\\x9c\\x92\\xe5g\\xab\\xb8\\x02:\\x83\\xd99\\'\\xc36\\x1aLZ\\xa51*N\\x90\\xf4\\x94\\x9f\\x83\\xbb8\\xa4O\\xad \\x8f~X\\x1a\\xda\\x8b?h\\x9c\\x8b\\xef\\x8b\\xf7@\\xd2Sk+\\xf2\\xd5O\\xbd\\x1cB\\xb9X\\x07\\xe1\\xa0\\xbec\\xbb\\xca$\\x81\\xec\\xb81\\x9d\\xdf\\x9d\\x85\\x8c\\xff\\x93\\xc9\\xab\\x1b\\xa7/\\x0e\\xa2\\xccI}\\x18\\x96\\xe4jTu\\xc6\\xae\\xe3\\x0e\\x188V\\xd2Pk(}@]\\xe0R\\xeb\\xab(\\xd2\\x85\\xf5\\xe1\\x13]\\x8c\\xee\\xbd\\xf9\\x15\\x0fu\\x94\\xd9\\xa8\\xf5\\xc1\\xef \\xf2k\\xd7\\xc9\\xeb=\\x01\\xf8\\xca\\xf2\\x1a\\xea\\xa9\\x97\\xa9+.P6v\\xc5\\xf5N\\xe0;;0+\\r\\xee\\xefC\\x02\\xebC\\x02\\xebC\\x02\\xebC\\x02\\xebC\\x02\\xebC\\x02\\xebC\\x02\\xebC\\x02\\xebC\\x02\\xebC\\x02\\xebC\\xa2\\xfd\\xfa\\x8dKJ\\x8aF\\x8f\\x8d\\xcf\\xcc\\xbaI 0m\\xfa\\xe8\\x83\\x87\\xbe <\\x86\\x0e\\xd0\\xed>u\\xfa\\xa8\\xaa*\\xa7W^l\\xcd\\xdau+RSO\\x13n\\xc0\\xd3\\xf5\\x95\\x95\\xb7q\\xe5\\xc5\\xd6\\xe4=\\xb8G\\xb8\\x07\\xb7\\x94}\\r\\x8a\\x86\\xdd\\xbbw\\xa4\\x9e;-\\x12\\x89\\xe3\\xe3\\x87,\\xf9\\xdbr\\x89\\xc4\\xcf\\xcb\\xcb\\xfcS\\x91$\\xb9\\xf5\\x9f\\xeb!\\x16\\xfc\\xfc\\xa4#\\x9fL~y\\xd9\\xdf-\\xbb\\\\\\xbdz\\xf1\\xa7\\xf3\\xa9\\xb7\\x7f\\xc9T\\xa9\\x94}c\\xfa\\xcf\\x7fnal\\xec\\x80\\x8c\\xcc\\xf4\\xbf\\xbfa^yq\\xce\\xbc)#\\x86\\x8f\\xda\\xb8a\\x1b\\xcd\\xcb\\x8bF\\xa3\\x1d\\xf9\\xf7!x\\x85\\x8a\\xca\\xb2\\x84\\xf8\\xa1\\xcb\\x97\\xaf\\x16\\t\\xcd\\x03\\xea\\x1a\\x8df\\xfb\\xfb\\x9b\\xb2og(\\x95\\x8a\\xf0\\xee\\x91\\x93\\'\\xcf\\x986u&\\x0cE\\x8cIN\\x80Tx\\xd3\\xf4[io\\xad\\xd9D\\xb8\\x14\\xd7G\\x9f\\xc1`X\\xb5\\xfaU\\x95Z\\xf9\\xfe\\xf6=\\xaf\\xbc\\xbc\\xa2\\xbc\\xbc\\x14\\x9e\\xb6,\\xa3\\xf1\\xe5\\x81\\xbd\\xf1\\x83\\x86@\\xd2\\xcc\\xa7\\xe7\\xfe\\xfb\\xe8\\xd7\\x97/_ \\x9a\\xd7\\xf7\\xd8\\xb2\\xf5m\\xc8\\xb3z\\xd5\\x86\\xcd\\x9bvH\\xa5\\xdd\\xd6\\xbc\\xb9\\\\\\xa1T\\x0c\\x8cK\\xd8\\xb2i\\x07d8|\\xe84\\xb8#\\x9aW\\x19;y\\xea\\x08\\xc4\\xe3\\xd2\\xa5\\xaf\\xafY\\xb5\\xf1F\\xfa\\xd5]\\xbb\\xdf\\xb7\\xbc\\xf2\\xcaU/W\\xd7Tm\\xd9\\xbc\\xf3\\xdb\\xc3)C\\x87>\\xb9c\\xe7\\xbb\\xf9\\xf9y\\xe0\\xfa\\xec\\x99\\xcb\\x90\\xbaj\\xe5z\\x97\\xbb#\\xdc\\x11}i\\xd7/\\xe7\\xe6\\xde\\xfd\\xd7W\\xc7\\x83\\x83\\xcc+_\\x05\\x06\\x04\\x1d;\\xf1\\xad\\\\\\xfe\\xeb\\x1aV`$y\\xecDx\\x107 \\x1e\\x82(+\\xfb\\xd6\\x88\\x11\\xa3\\xd8l\\xf6g\\x9f~\\xcd\\xe5p!Z!)2\"*\\xe5\\xec\\x89\\xfb\\xf7s\\x12\\xe2\\x87<\\xfe\\xeaMM<\\x1e\\x7f\\xc1\\x0b\\xbf\\xce\\xe4<\\xf9/3\\x8e\\x9f\\xf8v\\xe5\\x1bk\\xaf_\\xbfr\\xf7\\xee\\xed\\x03_\\x1c\\t\\x0b\\x0b\\x87\\xed\\x90\\xe1\\xfa\\xf5\\xcb\\x07\\x0f\\xed_\\xb7v+\\xe1N\\\\\\xaf\\xaf\\xa0\\xe0\\x01\\x9f\\xc7\\xb7\\xb8#\\xcc+#\\xc6\\xc2?\\xc2\\xbc~\\xacy\\xad\\xc4\\xd8\\xd8\\xdf\\xd7Z\\x03\\x11F\\xa3\\xc1\\xf2X\\xa3V\\xef\\xdb\\xf71\\x1cz2Y\\xadeK\\xddo\\x0f\\xfe\\x03\\x1amp\\xc2\\xb0\\x96g\\xf0\\xca\\xdf\\x1d9\\x08\\xbfMQq!\\x87\\xc3\\xb1\\xb8\\xb3\\xd0\\xb3g\\x1f\\xf8!\\t7\\xe3\\xfa\\x83\\x17\\n/ok\\xcb\\xe9XV/j\\xbd\\xac\\r\\x1cY\\x96a\\xd2\\xca\\xca\\x8a\\xffym!dx\\xfb\\xcd-?\\xa4\\xa6\\x9d9u\\xd1\\xe6\\xab75q\\xb9\\xbfO.\\xcf\\xe1\\x98\\x97\\x87ih\\x90\\xcb\\xeaj[o\\xb7$AiH\\xb8\\x19\\xd7G\\x1f\\x97\\xcb\\xd5j\\x9d\\xfb\\xdcp\\xd2\\x80\\x82\\xef\\x1f+\\xd7[\\x961\\x92Y\\x8d;\\x0b4\\x9aN\\xf7\\xfb\\xf8\\xa1Fc^,I \\x10r\\xd8\\x1c\\xcb\\xe3\\x16\\xe03\\xc0\\xf9\\x8ap3\\xae\\x8f\\xbe\\xde\\xbd\\xfa\\xc2\\xcf\\x9e\\xf7 \\xd7\\xf2\\xb4\\xa8\\xa8p\\xf9\\xeb\\x8b\\xa0\\xcelg\\x17\\xb5Z\\xc5\\xe7\\x0bZ\\x96\\x80\\xbat\\xf9\\xa7\\x96\\xa4\\xc7\\x16P\\x84\\xa7\\xf9\\xf9\\xf7[\\x9eB!\\x0b{\\xf9\\xfaJz\\xf5\\x8a\\xd1j\\xb5\\x0f\\x1f\\x16\\xb4$\\xdd\\xbbw\\'\"\\xbc\\x07\\xe1f\\\\\\xaf/!ahpp\\xe8\\x9e=;\\xe1\\xac\\x9a~3m\\xe7\\x87[\\xe1\\xe0\\n\\r\\xedng\\x97\\x88\\x88\\xa8\\xda\\xda\\x9a3)\\xc7\\x8dFcZ\\xda\\xe5\\x9c\\x9c_\\xf8|~U\\xb5\\xb9\\xaa\\x1c\\xd4\\\\\\x86\\x9e\\xbfp\\xee^\\xee]\\xa2\\xf9\\xcc\\x9b_\\x90w\\xf4\\xe8a8\\xd2a\\xcb\\xb9\\x1f\\xce\\x8c\\x1e5\\x9eN\\xa7\\x0fI\\x1c\\x11\\x14\\x18\\xfc\\xde\\xf6\\x8d\\xf7\\xf3\\xee\\xd5\\xd5\\xc9>\\xfd\\xec#\\xf8\\xfdf\\xcd2\\xaf\\x83\\x06~!\\x0co\\xdeJ+,t\\xfd\\x1a\\x82\\xae\\xd7\\x07\\xa5\\xdb{\\xff\\xfc\\xc4H\\x1a\\xdf^\\xf7\\xc6\\xca\\x7f\\xbc,\\xe0\\x0b7\\xbe\\xb3\\xcd\\xfe*\\x9cc\\xc7L\\x987w\\xc1\\xe7\\xfbw\\x8d\\x9b0\\xe4\\xc4\\xa9#P\\xdd\\x197n\\xf2\\x17_\\xee\\xf9\\xe8\\x93mp6\\x18;v\"$\\xc1\\x89\\x850\\xd7\\x8a\\xf4\\xcf\\xcc\\x9e\\x0f-\\xbf\\xb1\\xe3\\x06\\xafX\\xb9\\x14\\xce\\xe3\\x8b\\x17/\\xb7\\xbc\\xe9\\xc6\\r\\xdby\\\\\\xde\\x92\\xa5\\xcf?;\\x7f:\\x9c\\x82\\xa0\\xc6\\xd3\\xa7w_\\xcb\\xeb\\xcf\\x9b\\xb3\\x00N\\xcd\\x87\\xbev}k\\x8f\\xfa\\x1a\\x97\\xd4\\xaf\\xaa\\x02\\xbas#\\xfb\\xff9k\\x87\\xfdY\\x14d+k\\x8a5\\xe3\\xa8\\xd6\\x98\\xc4=.H`}H`}H`}H`}H`}H`}H`}H`}H`}H`}H`}H`}HP\\xeb\\x83\\xae&\\xcf]\\x04\\xd4\\x9d\\xd0\\x1c\\xe8\\xcc\\xa3\\xd6\\'\\xf6c*\\xeb\\rD\\x17CYg\\x10H\\x98\\x94\\xd9\\xa8\\r\\xfb\\x05{W>t\\xfb\\x98\\x8b\\xa7Q\\xf1P\\xd3-\\x94z\\x15vj}\\xdd{qI\\x83)\\xebB\\x1d\\xd1e\\xc8\\x86/kj\\nw`\\xbdh\\x87\\xee\\xa8T\\xd6\\x1b\\x8f\\xef*\\x13IY\\xf1\\xe3\\xfd\\x04>\\xd4!\\xddqQ\\xc8\\x0c\\xb7~\\xa8U\\xc8\\xf43\\x96\\x05\\xf3D\\x0e\\x9c\\x18\\x1c\\xbf\\x1d\\xfa\\xeai\\xd9\\xbdt\\x05\\x87G\\xe7\\xf0\\xdb\\xe9|mj\\xfel^\\xb4v\\xba)L\\xab2j\\xd5d\\x9f\\xc1\\xc2\\xa1\\x93%t\\xa6Co\\xea\\xf4,B\\xb5\\xe5\\xfaFM{\\xdc\\x8c\\x0f\\x9c:u\\n\\xfeN\\x9d:\\x95h\\x17\\xdap3\\xbe\\xd3q\\xe4\\x17\\xd4~wW\\xd2\\xb8\\xf50D\\x17\\x1c\\xc5!<\\x15\\\\mF\\x02\\xebC\\x02\\xebC\\x02\\xebC\\x02\\xebC\\x02\\xebC\\x02\\xebC\\x02\\xebC\\x02\\xebC\\x02\\xebC\\x02\\xebC\\x02\\xebC\\x02\\xebC\\x02\\xebC\\x02\\xebC\\x02\\xebC\\x02\\xebC\\x02\\xebC\\x02\\xebC\\x02\\xebC\\x02\\xebC\\x02\\xebC\\x02\\xebC\\x02\\xebC\\x02\\xebC\\x02\\xebC\\x02\\xebC\\x02\\xebC\\x02\\xebC\\x02\\xebC\\x02\\xebC\\x02\\xebC\\x02\\xebC\\x02\\xebC\\x02\\xebC\\x02\\xebC\\x02\\xebC\\x02\\xebC\\x02\\xebC\\x02\\xebC\\xc2\\x13\\xd7&\\x9f2eJyy9|\\xb0\\x96i\\xeb\\xe0qPP\\x90\\x07\\xaeM\\xee\\x89\\xd3^\\x83>z3^\\xbf\\xc1`0\\xa6M\\x9bFx\\x1e\\x9e\\xa8o\\xf6\\xec\\xd9!!!\\xad\\xb7\\x84\\x85\\x85\\xcd\\x993\\x87\\xf0<<Q\\x9f\\xaf\\xaf\\xef\\xc4\\x89\\x13[\\x8e\\\\x\\x90\\x9c\\x9c\\xdc\\xb2\\xd6\\xb6G\\xe1\\xa1s\\xd6\\xcf\\x9a5+44\\xd4\\xf2\\x18\"q\\xee\\xdc\\xb9\\x84G\\xe2\\xa1\\xfa$\\x12\\tD\\x1c\\xad\\x19\\x88D\\xb1XLx$\\x1e\\xbd69\\x14y\\xc1\\xc1\\xc1\\x9e\\xbc6\\xb9\\x0b*.\\xea\\x06c~\\xb6\\xaaAf\\xd4*I\\x9d\\x9alltYM\\xa8\\xa6\\xba\\x86\\xa0\\x11R\\xa9\\x94p\\x11\\xde\\xde46\\x8f\\xce\\x15\\xd0\\x85\\x12FT\\x7f\\xbe#\\xb7\\xdb\\xdb\\xa7\\xed\\xfaHCS\\xc6yy^\\xa6R!3\\x88\\x03y\\x0co&\\x9dEg0\\xe9t\\x86\\xe7F4i4\\x19\\r$i \\x8d\\x1a\\x83\\xbcJ-\\x94\\xb0z\\'\\xf0\\xfb\\'\\x89\\x1d\\xbc\\xf5\\xfe\\x8f\\xb4Q_^\\x86\\xea\\xd2\\xb1\\x1a&\\x8f\\xe5\\x13(\\x14\\xf8s\\x89\\x8e\\x89\\xa2Z#\\xafP\\x18\\xd4\\xfa\\xa4\\x19\\xd2\\xe8\\x81mY\\xc2\\xd9i}\\x8dZ\\xd3\\xe9\\xcf*\\x1b\\xe4d@\\x94/\\xd7\\x87Mt|\\xd4u\\xda\\xaa\\xfcz\\x91/}\\xda\\xa2@\\xa6\\xb7sa\\xe8\\x9c>E\\x9d\\xf1\\xd8\\xc7e<\\xa9\\xa2\\xae\\x9d.\\x00\\x00\\x05\\xb6IDAT\\xc0/\\xdc\\x13ka(\\xd4<\\x94k\\xeb\\xd5O-\\t\\x12\\xfa:Q :\\xa1\\xaf\\xaaD\\x97\\xb2\\xbfJ\\x1a-\\xe1\\xfbx\\xee\\xdc\\x0c(\\xa8d\\xba\\xea\\xfc\\xda\\xa9\\x0b\\x03\\xa4!\\xd4\\xf3\\x07Yp\\xb4\\x98\\xd7(\\xc83\\xfb\\xab\\x82b\\xfc;\\xab;\\x80/a\\xc3\\x17<\\xfdy\\xa5Z\\xe1\\xe8L+\\x0e\\xe93\\x1a\\x9a\\x8e\\xed*\\xf3\\xef!\\xf1\\xe6w\\xf25\\xde\\xd9|\\x96\\xb4\\x87\\xe4\\xc4\\x9er\\xd2\\xe8\\xd0A\\xe9\\x90\\xbe\\xb4\\x94:\\xae/\\x9f\\xef\\xd7i\\xe3\\xae5|\\t\\x87-\\xe2^\\xff\\xde\\xa19\\xbb\\xa8\\xf5\\xa9\\x1b\\xc8\\xa2\\x1c\\x8dOhg;W\\xd8\\xc17L\\\\p[\\x03\\xcd\\x01\\xca\\x9c\\xd4\\xfa~>Z#\\n\\xf6\\xd0&\\xa7\\xfb\\x10\\x05\\x89.\\x9d\\x90Qf\\xa3\\xd0\\xa7S\\x9bJ\\xf3\\xb5\\x02\\xa9\\x87V\\x8c\\xeb\\xe5\\x95o\\xbc\\x9d\\x98\\x93{\\x99p5B\\x7f^q\\x8e\\x1a\\xda\\xa0\\xf6\\xb3Q\\xe8\\xcb\\xcfV\\n\\xa5\\xd4\\xd3\\xd8uBh\\x84\\xb0\\x1b\\xaf\\xf0\\x0e\\xc5\\xfa\\x8e\\x14\\xfa\\x1ed\\xa9y~\\x1d\\xb5M\\x86\\x08\\xdf\\x97\\x9b\\x9fE1m&E\\r\\xbb\\xe6\\x91\\xae\\xc70\\x97ux<F\\x83\\xa2\\xe6\\xe4\\xd9\\x9d\\xc5\\x8f~1\\x18\\x1a{=1t\\xdc\\xe8\\x85~\\x12s\\x1f\\xfd\\xa5k\\xdf\\x9c\\xbf\\xf4\\xd5\\xdf\\x16|t\\xe0\\xf0\\xaa\\xea\\x9a\\xa2\\xc0\\x80\\'F\\x8f\\x98?\\xb0\\xff\\x04\\xcb^\\x19\\xb7SS\\x7f\\xdc\\xabkT\\xf7\\xe9\\x954\"\\xf1\\xaf\\xe6M\\xee\\x99\\xe0\\x8f#\\xf6.\\xbaQk?\\x8f\\xbd\\xe8\\x83\\xea\\x9e\\xd1\\xd8\\xe4\\xa6\\x1e\\x14\\x924\\xee\\xf9b\\x19\\xb8\\x9b\\xfd\\xd4[o\\xbc\\xf25\\x87#\\xf8\\xf0\\xd3\\x97\\xa0,#\\xcc\\xeb6\\xb1\\xb4:\\xc5\\xf1\\x94\\xed\\xcf\\xccx\\xeb\\xbd\\ri1=\\x93\\xbe9\\xb6A\\xa92\\xd7$*\\xaa\\xf2\\xbf>\\xb2.1~\\xfa\\xaa\\xe5G\\xe2b\\xc7\\x1fOy\\x9fp\\x1b\\x0c\\x16\\xdd`\\xb0,\\xceg\\x13{j\\x1aj\\r\\x1c\\xbe\\xbb\\xa6\\xda,,\\xca\\xac\\xa9-\\x9e;s}t\\xd4`\\x01\\xdfw\\xea\\xc4\\xe5\\xde,\\x0e\\xc4\\x1d\\xd1<\\xb8\\x01\\xf18q\\xec\\xe2\\xee\\xa1\\xb1\\xf0x\\xd0\\x80I\\xe0\\xba\\xac\\xdc\\xbc<\\xdb\\xe5\\xb4\\xef|}\\x82\\xc7<\\xf9\\x02\\xe8\\x86\\x1d\\x07\\x0ft\\xef\\xcc\\x88l.\\x03$\\xd8\\xc9`O\\x9fJndx\\xd3\\t\\xf7PTr\\x9b\\xc5d\\xf7\\x88\\x18hy\\n\\xc3\\x92\\xe1a\\xfd\\x8bJ\\xb2\\x89\\xe6Q]\\xf8\\x1b\\x16\\x12cIb\\xb3\\xcd]I\\xbaFs).\\xab+\\xed\\xe6\\x1f\\xd1\\xf2\"!\\xc1\\xbd\\ts)\\xef.\\x98\\x1c\\x06H\\xb0\\x93\\xc1^\\xd9\\xc7`\\xd1\\xdc7\\x86\\x0e\\x85\\x97\\xde\\xa0\\x83jG\\xeb\\x8d>\\xe2@\\xf3\\x7f\\xcd\\xef\\xfa\\xd8\\xd2n\\x16\\xa7Z\\xad\\x92\\xcf\\xf3i\\xd9\\xc8dx\\xb7$\\xb9\\x03\\x92l\\xa2\\xdb\\x8d\\x1f{\\xfa\\xb8|:\\xd9H]\\xf3n\\x1b\\x02h\\xa0{\\xf3\\x16\\xcc{\\xaf\\xf5F/:E\\xb0C$\\x82\\xf4\\x96\\xa7z\\x83y\\xbdJ\\x9a\\xdb\\xe6\\x8656\\x92\\\\\\xa1\\xdd\\x08\\xb3\\x93\\xc6\\x110\\xf4:w\\xcd\\xf2\\x1a\\x18\\x10\\x05\\x01\\xe8#\\x0e\\x90\\xf8\\x06[\\xb6\\xd4\\xd6\\x95\\n\\xf9\\x14\\x8brB\\xfe\\xbc\\xfc\\xeb-\\xd7o\\xe4\\xe6]%\\xdc\\x19}\\x06\\xad\\x11\\x06F\\xecd\\xb0W\\xf6\\xb1\\xb9^\\x0c\\x96\\x97A\\xe7\\x96\\x00\\xec\\x19\\x95\\x18\\x1d\\x95\\xf8\\xdd\\x89-\\xf2\\x86*\\x95\\xba\\x1eN\\x1a;w\\xbfp+\\xfb\\xac\\xfd\\xbd\\xfa\\xc5\\x8cU(kO\\xa7~\\x04\\x8f\\x1f\\x14\\xa4\\xa7\\xdd<n\\xde\\xea\\x9e\\xe8\\xd3k\\x8cL6\\x9d\\xc5\\xb6\\xa7\\x88\\xa2\\xde\\x17\\xd6\\x8b\\xab\\xac\\xd1\\xf8\\x86\\n\\t7\\xb0p\\xfe\\xcek\\xe9G\\xbf\\xfa\\xe6M\\xa8\\xbe\\xf8K\\xc3\\x13\\x07M\\x1f\\x9a0\\xc3\\xfe.}z\\x0e\\xff\\xcb\\xf8ei\\xe9\\xc7~\\xber\\x10\\n\\xca9O\\xaf\\xdd\\xbd\\x7f\\x89\\xc9\\xe4\\x96CDY\\xab\\x89\\xe8K\\xd1\\xe2\\xa2\\xe8m.\\xc8V]\\xfb\\xbe!\\xa4_\\x00\\xd1\\xf5(\\xcd\\xae\\x1c6E\\x1ci\\xd7 E\\x958$\\x9a\\xdbP\\xad\\x850&\\xba\\x18z\\xadQQ\\xa3\\r\\x8d\\xa6h\\xb0R\\x1c\\xbc\\xde\\x1c\\xaf\\x9e\\x83\\x84\\x95\\x85\\xf5!}\\xad7\\xdd\\xa0B\\xbbn\\xeb\\x04\\xabIF\\xa3\\x9eAgY\\xad\\x95\\x05\\x07F/yi7\\xe1:\\xde\\xde\\x9c\\xdcdcY\\x118\\xb4\\xbd\\xbc\\xac\\x14\\xffP\\xaf\\\\\\xf4\\xc2\\x87\\x84\\r\\xaa\\xf3\\xebz&\\x08\\x99,\\x8aR\\x95z\\xa8H\\xab\"\\x0fl,\\n\\x8f\\x0fb\\xdb\\xe8\\xa9\\xaf\\xab/\\xb7\\xba]\\xa7SYj\\xbc\\x7f\\x84Ng\\x8a\\x84\\xaelJ\\xdb\\xfa\\x0c\\x84\\xb9r\\xd3\\xc8bZ\\x19\\xfa\\x81\\xa6\\xa1P`\\xfdD\\xafS\\xea\\x8b3*\\x16\\xac\\x0b\\x87\\xe8!\\xec\\xe2\\xd0H[\\xe6\\x85\\xfa\\x8c\\xf3\\x8a\\x88\\x84 /\\xba\\xe7^A\\xe0*LF\\xd3\\xc3\\xf4\\xf2\\x84q\\xa2~I\\xd4\\x9d\\xc4\\x0e\\xe9\\x18\\xf0\\xa4X\\x1a\\xc4,\\xbdS\\xe3\\x81W\\xf2\\xba\\x16\\xf8\\x82\\x8fnW\\xf9\\x051c\\x87;48\\xe1\\x90>\\x9a\\x17\\xed//\\x052\\xe9d\\xe5\\xfdN\\xbe\\xe8IEn\\x1d\\x8b\\xd54\\xf9\\xbf\\x02\\xe1+;\\x92\\xdf\\xd1\\x83\\x91\\xc1\\xa4\\xcdX\\x1a\\x04\\xad\\x98\\x92\\xac*\\x93\\xb1\\x13\\xc6 |)\\xf8j4\\x93~\\xc6\\xd2`\\x86\\xc3W\\x0c9w\\x91\\x06\\x8c~\\x9e\\xfd\\xb2\\xb2\\xaaD\\x1f\\x16\\x17\\xc0dw\\x9e\\x9b\\x1a\\xa0eU\\x9cQ\\x19\\x14\\xe9=a~7:\\xc3\\x896L[\\xae\\xb0\\xbay\\xae\\xfe\\xe6O\\xf5~a\"\\xdf0\\x91\\x17\\xbd\\x9d\\x96rq\\x13\\xd0\\xa7RW,\\x97\\x95(\\xe2\\xc7\\xf9\\xc4\\'\\xfb8\\xbb{\\x1b/P\\xab\\xaf2d\\xfe,\\x7fxG\\xcd\\x15s\\xa1S\\x1b\\x86\\x96\\xa1o\\x96\\xe88\\x18u\\xa4\\xaa^\\xabih\\xd4\\xd6k\"cyq\\xa3\\xc4bi[:\\x86\\x91\\xae.\\x85\\xde\\xfc\\xa2\\xbb\\x9a\\xbc,\\xf5\\xa3{\\xaa&\\x82\\xc6\\xe63Y\\\\\\xe8\\x82\\xf3\\xd0\\x83\\x1a\\xbe(\\xa97\\xea5\\x06\\x9dZOk\"\\xc2\\xfa\\xf0\\x9f\\x88\\xe3E\\xf5C\\x1aGt\\xd9]E\\xd0++\\xaf1@\\xd7\\xb6#\\x83\\xf3\\x7f\\x0e4\\x82\\'d\\x88\\xfc\\x98\\x10h|\\xb1k~cO\\xbc)\\xab\\x03\\x81o\\tD\\x02\\xebC\\x02\\xebC\\x02\\xebC\\x02\\xebC\\x02\\xebC\\xe2\\xff\\x01\\x00\\x00\\xff\\xff\\x7f\\xb3|4\\x00\\x00\\x00\\x06IDAT\\x03\\x00\\xdc\\xc5g(R\\x8dl~\\x00\\x00\\x00\\x00IEND\\xaeB`\\x82'"
      ]
     },
     "execution_count": 40,
     "metadata": {},
     "output_type": "execute_result"
    }
   ],
   "source": [
    "graph.get_graph().draw_mermaid_png(output_file_path=\"../img/graph.png\")"
   ]
  },
  {
   "cell_type": "markdown",
   "id": "f5e9d741",
   "metadata": {},
   "source": [
    "Show the image"
   ]
  },
  {
   "cell_type": "markdown",
   "id": "6c6ce0af",
   "metadata": {},
   "source": [
    "![Agent diagram](../img/graph.png)"
   ]
  },
  {
   "cell_type": "code",
   "execution_count": 44,
   "id": "5c192d9f",
   "metadata": {},
   "outputs": [
    {
     "name": "stdout",
     "output_type": "stream",
     "text": [
      "{'messages': [HumanMessage(content='hi, my name is Jack!', additional_kwargs={}, response_metadata={}, id='301cb710-faf5-4be3-bd45-79407ba727ab'), AIMessage(content='Hi Jack! 👋 Nice to meet you! How can I help you today? 😊', additional_kwargs={'refusal': None}, response_metadata={'token_usage': {'completion_tokens': 19, 'prompt_tokens': 14, 'total_tokens': 33, 'completion_tokens_details': {'accepted_prediction_tokens': 0, 'audio_tokens': 0, 'reasoning_tokens': 0, 'rejected_prediction_tokens': 0}, 'prompt_tokens_details': {'audio_tokens': 0, 'cached_tokens': 0}}, 'model_name': 'gpt-4o-2024-11-20', 'system_fingerprint': 'fp_ee1d74bde0', 'id': 'chatcmpl-BZVmkvk5LZbQWYDywotFQO2TSrYTj', 'service_tier': None, 'prompt_filter_results': [{'prompt_index': 0, 'content_filter_results': {'hate': {'filtered': False, 'severity': 'safe'}, 'self_harm': {'filtered': False, 'severity': 'safe'}, 'sexual': {'filtered': False, 'severity': 'safe'}, 'violence': {'filtered': False, 'severity': 'safe'}}}], 'finish_reason': 'stop', 'logprobs': None, 'content_filter_results': {'hate': {'filtered': False, 'severity': 'safe'}, 'self_harm': {'filtered': False, 'severity': 'safe'}, 'sexual': {'filtered': False, 'severity': 'safe'}, 'violence': {'filtered': False, 'severity': 'safe'}}}, id='run--c83d64fd-6135-43cf-b289-99c5b6ea02c5-0', usage_metadata={'input_tokens': 14, 'output_tokens': 19, 'total_tokens': 33, 'input_token_details': {'audio': 0, 'cache_read': 0}, 'output_token_details': {'audio': 0, 'reasoning': 0}}), HumanMessage(content='What is my name?', additional_kwargs={}, response_metadata={}, id='d6a94178-c5c6-4078-9596-017686fe88a9'), AIMessage(content='Your name is Jack! 😊 ', additional_kwargs={'refusal': None}, response_metadata={'token_usage': {'completion_tokens': 8, 'prompt_tokens': 45, 'total_tokens': 53, 'completion_tokens_details': {'accepted_prediction_tokens': 0, 'audio_tokens': 0, 'reasoning_tokens': 0, 'rejected_prediction_tokens': 0}, 'prompt_tokens_details': {'audio_tokens': 0, 'cached_tokens': 0}}, 'model_name': 'gpt-4o-2024-11-20', 'system_fingerprint': 'fp_ee1d74bde0', 'id': 'chatcmpl-BZVmlk5ry198Dpsz4LAuvgrWrTZ1q', 'service_tier': None, 'prompt_filter_results': [{'prompt_index': 0, 'content_filter_results': {'hate': {'filtered': False, 'severity': 'safe'}, 'self_harm': {'filtered': False, 'severity': 'safe'}, 'sexual': {'filtered': False, 'severity': 'safe'}, 'violence': {'filtered': False, 'severity': 'safe'}}}], 'finish_reason': 'stop', 'logprobs': None, 'content_filter_results': {'hate': {'filtered': False, 'severity': 'safe'}, 'self_harm': {'filtered': False, 'severity': 'safe'}, 'sexual': {'filtered': False, 'severity': 'safe'}, 'violence': {'filtered': False, 'severity': 'safe'}}}, id='run--384c7c21-48e9-4721-97f1-3fbc7227e476-0', usage_metadata={'input_tokens': 45, 'output_tokens': 8, 'total_tokens': 53, 'input_token_details': {'audio': 0, 'cache_read': 0}, 'output_token_details': {'audio': 0, 'reasoning': 0}}), HumanMessage(content='hi, my name is Jack!', additional_kwargs={}, response_metadata={}, id='8ba3ba46-a6a8-44fa-b2bd-47159b95a4f9'), AIMessage(content='Hi again, Jack! 😊 How can I assist you today?', additional_kwargs={'refusal': None}, response_metadata={'token_usage': {'completion_tokens': 14, 'prompt_tokens': 67, 'total_tokens': 81, 'completion_tokens_details': {'accepted_prediction_tokens': 0, 'audio_tokens': 0, 'reasoning_tokens': 0, 'rejected_prediction_tokens': 0}, 'prompt_tokens_details': {'audio_tokens': 0, 'cached_tokens': 0}}, 'model_name': 'gpt-4o-2024-11-20', 'system_fingerprint': 'fp_ee1d74bde0', 'id': 'chatcmpl-BZVnlLlpoK5zZY6mhFIKyd8XBIgxe', 'service_tier': None, 'prompt_filter_results': [{'prompt_index': 0, 'content_filter_results': {'hate': {'filtered': False, 'severity': 'safe'}, 'self_harm': {'filtered': False, 'severity': 'safe'}, 'sexual': {'filtered': False, 'severity': 'safe'}, 'violence': {'filtered': False, 'severity': 'safe'}}}], 'finish_reason': 'stop', 'logprobs': None, 'content_filter_results': {'hate': {'filtered': False, 'severity': 'safe'}, 'self_harm': {'filtered': False, 'severity': 'safe'}, 'sexual': {'filtered': False, 'severity': 'safe'}, 'violence': {'filtered': False, 'severity': 'safe'}}}, id='run--9774a0b2-37f5-4061-a61e-7e845dd74a76-0', usage_metadata={'input_tokens': 67, 'output_tokens': 14, 'total_tokens': 81, 'input_token_details': {'audio': 0, 'cache_read': 0}, 'output_token_details': {'audio': 0, 'reasoning': 0}})]}\n"
     ]
    }
   ],
   "source": [
    "# graph can be run with stream or invoke method\n",
    "thread1 = {\"configurable\": {\"thread_id\": \"1\"}}\n",
    "result_1 = graph.invoke(\n",
    "    {\"messages\": [HumanMessage(\"hi, my name is Jack!\")]},\n",
    "    thread1\n",
    ")\n",
    "print(result_1)\n",
    "\n",
    "# Notice the object thread1, which identifies the current interaction\n",
    "# as belonging to a particular history of interactions—which are called\n",
    "# threads in LangGraph. Threads are created automatically when first used.\n",
    "# Any string is a valid identifier for a thread (usually, Universally\n",
    "# Unique Identifiers [UUIDs] are used)."
   ]
  },
  {
   "cell_type": "code",
   "execution_count": 45,
   "id": "4517aa71",
   "metadata": {},
   "outputs": [
    {
     "name": "stdout",
     "output_type": "stream",
     "text": [
      "{'messages': [HumanMessage(content='hi, my name is Jack!', additional_kwargs={}, response_metadata={}, id='301cb710-faf5-4be3-bd45-79407ba727ab'), AIMessage(content='Hi Jack! 👋 Nice to meet you! How can I help you today? 😊', additional_kwargs={'refusal': None}, response_metadata={'token_usage': {'completion_tokens': 19, 'prompt_tokens': 14, 'total_tokens': 33, 'completion_tokens_details': {'accepted_prediction_tokens': 0, 'audio_tokens': 0, 'reasoning_tokens': 0, 'rejected_prediction_tokens': 0}, 'prompt_tokens_details': {'audio_tokens': 0, 'cached_tokens': 0}}, 'model_name': 'gpt-4o-2024-11-20', 'system_fingerprint': 'fp_ee1d74bde0', 'id': 'chatcmpl-BZVmkvk5LZbQWYDywotFQO2TSrYTj', 'service_tier': None, 'prompt_filter_results': [{'prompt_index': 0, 'content_filter_results': {'hate': {'filtered': False, 'severity': 'safe'}, 'self_harm': {'filtered': False, 'severity': 'safe'}, 'sexual': {'filtered': False, 'severity': 'safe'}, 'violence': {'filtered': False, 'severity': 'safe'}}}], 'finish_reason': 'stop', 'logprobs': None, 'content_filter_results': {'hate': {'filtered': False, 'severity': 'safe'}, 'self_harm': {'filtered': False, 'severity': 'safe'}, 'sexual': {'filtered': False, 'severity': 'safe'}, 'violence': {'filtered': False, 'severity': 'safe'}}}, id='run--c83d64fd-6135-43cf-b289-99c5b6ea02c5-0', usage_metadata={'input_tokens': 14, 'output_tokens': 19, 'total_tokens': 33, 'input_token_details': {'audio': 0, 'cache_read': 0}, 'output_token_details': {'audio': 0, 'reasoning': 0}}), HumanMessage(content='What is my name?', additional_kwargs={}, response_metadata={}, id='d6a94178-c5c6-4078-9596-017686fe88a9'), AIMessage(content='Your name is Jack! 😊 ', additional_kwargs={'refusal': None}, response_metadata={'token_usage': {'completion_tokens': 8, 'prompt_tokens': 45, 'total_tokens': 53, 'completion_tokens_details': {'accepted_prediction_tokens': 0, 'audio_tokens': 0, 'reasoning_tokens': 0, 'rejected_prediction_tokens': 0}, 'prompt_tokens_details': {'audio_tokens': 0, 'cached_tokens': 0}}, 'model_name': 'gpt-4o-2024-11-20', 'system_fingerprint': 'fp_ee1d74bde0', 'id': 'chatcmpl-BZVmlk5ry198Dpsz4LAuvgrWrTZ1q', 'service_tier': None, 'prompt_filter_results': [{'prompt_index': 0, 'content_filter_results': {'hate': {'filtered': False, 'severity': 'safe'}, 'self_harm': {'filtered': False, 'severity': 'safe'}, 'sexual': {'filtered': False, 'severity': 'safe'}, 'violence': {'filtered': False, 'severity': 'safe'}}}], 'finish_reason': 'stop', 'logprobs': None, 'content_filter_results': {'hate': {'filtered': False, 'severity': 'safe'}, 'self_harm': {'filtered': False, 'severity': 'safe'}, 'sexual': {'filtered': False, 'severity': 'safe'}, 'violence': {'filtered': False, 'severity': 'safe'}}}, id='run--384c7c21-48e9-4721-97f1-3fbc7227e476-0', usage_metadata={'input_tokens': 45, 'output_tokens': 8, 'total_tokens': 53, 'input_token_details': {'audio': 0, 'cache_read': 0}, 'output_token_details': {'audio': 0, 'reasoning': 0}}), HumanMessage(content='hi, my name is Jack!', additional_kwargs={}, response_metadata={}, id='8ba3ba46-a6a8-44fa-b2bd-47159b95a4f9'), AIMessage(content='Hi again, Jack! 😊 How can I assist you today?', additional_kwargs={'refusal': None}, response_metadata={'token_usage': {'completion_tokens': 14, 'prompt_tokens': 67, 'total_tokens': 81, 'completion_tokens_details': {'accepted_prediction_tokens': 0, 'audio_tokens': 0, 'reasoning_tokens': 0, 'rejected_prediction_tokens': 0}, 'prompt_tokens_details': {'audio_tokens': 0, 'cached_tokens': 0}}, 'model_name': 'gpt-4o-2024-11-20', 'system_fingerprint': 'fp_ee1d74bde0', 'id': 'chatcmpl-BZVnlLlpoK5zZY6mhFIKyd8XBIgxe', 'service_tier': None, 'prompt_filter_results': [{'prompt_index': 0, 'content_filter_results': {'hate': {'filtered': False, 'severity': 'safe'}, 'self_harm': {'filtered': False, 'severity': 'safe'}, 'sexual': {'filtered': False, 'severity': 'safe'}, 'violence': {'filtered': False, 'severity': 'safe'}}}], 'finish_reason': 'stop', 'logprobs': None, 'content_filter_results': {'hate': {'filtered': False, 'severity': 'safe'}, 'self_harm': {'filtered': False, 'severity': 'safe'}, 'sexual': {'filtered': False, 'severity': 'safe'}, 'violence': {'filtered': False, 'severity': 'safe'}}}, id='run--9774a0b2-37f5-4061-a61e-7e845dd74a76-0', usage_metadata={'input_tokens': 67, 'output_tokens': 14, 'total_tokens': 81, 'input_token_details': {'audio': 0, 'cache_read': 0}, 'output_token_details': {'audio': 0, 'reasoning': 0}}), HumanMessage(content='What is my name?', additional_kwargs={}, response_metadata={}, id='5ca33186-c9e9-4213-9a04-cbe0fae83cda'), AIMessage(content='Your name is Jack! 😊', additional_kwargs={'refusal': None}, response_metadata={'token_usage': {'completion_tokens': 7, 'prompt_tokens': 93, 'total_tokens': 100, 'completion_tokens_details': {'accepted_prediction_tokens': 0, 'audio_tokens': 0, 'reasoning_tokens': 0, 'rejected_prediction_tokens': 0}, 'prompt_tokens_details': {'audio_tokens': 0, 'cached_tokens': 0}}, 'model_name': 'gpt-4o-2024-11-20', 'system_fingerprint': 'fp_ee1d74bde0', 'id': 'chatcmpl-BZVnoIl7F2MLyUEiULwj4PnXJG3Rj', 'service_tier': None, 'prompt_filter_results': [{'prompt_index': 0, 'content_filter_results': {'hate': {'filtered': False, 'severity': 'safe'}, 'self_harm': {'filtered': False, 'severity': 'safe'}, 'sexual': {'filtered': False, 'severity': 'safe'}, 'violence': {'filtered': False, 'severity': 'safe'}}}], 'finish_reason': 'stop', 'logprobs': None, 'content_filter_results': {'hate': {'filtered': False, 'severity': 'safe'}, 'self_harm': {'filtered': False, 'severity': 'safe'}, 'sexual': {'filtered': False, 'severity': 'safe'}, 'violence': {'filtered': False, 'severity': 'safe'}}}, id='run--8d587fc7-c167-4c52-8942-b9603a9f7414-0', usage_metadata={'input_tokens': 93, 'output_tokens': 7, 'total_tokens': 100, 'input_token_details': {'audio': 0, 'cache_read': 0}, 'output_token_details': {'audio': 0, 'reasoning': 0}})]}\n"
     ]
    }
   ],
   "source": [
    "result_2 = graph.invoke(\n",
    "    {\"messages\": [HumanMessage(\"What is my name?\")]},\n",
    "    thread1\n",
    ")\n",
    "print(result_2)"
   ]
  },
  {
   "cell_type": "markdown",
   "id": "3fd5269a",
   "metadata": {},
   "source": [
    "You can also inspect and update the state directly; let’s see how:\n",
    "\n"
   ]
  },
  {
   "cell_type": "code",
   "execution_count": 46,
   "id": "efbfc972",
   "metadata": {},
   "outputs": [
    {
     "data": {
      "text/plain": [
       "StateSnapshot(values={'messages': [HumanMessage(content='hi, my name is Jack!', additional_kwargs={}, response_metadata={}, id='301cb710-faf5-4be3-bd45-79407ba727ab'), AIMessage(content='Hi Jack! 👋 Nice to meet you! How can I help you today? 😊', additional_kwargs={'refusal': None}, response_metadata={'token_usage': {'completion_tokens': 19, 'prompt_tokens': 14, 'total_tokens': 33, 'completion_tokens_details': {'accepted_prediction_tokens': 0, 'audio_tokens': 0, 'reasoning_tokens': 0, 'rejected_prediction_tokens': 0}, 'prompt_tokens_details': {'audio_tokens': 0, 'cached_tokens': 0}}, 'model_name': 'gpt-4o-2024-11-20', 'system_fingerprint': 'fp_ee1d74bde0', 'id': 'chatcmpl-BZVmkvk5LZbQWYDywotFQO2TSrYTj', 'service_tier': None, 'prompt_filter_results': [{'prompt_index': 0, 'content_filter_results': {'hate': {'filtered': False, 'severity': 'safe'}, 'self_harm': {'filtered': False, 'severity': 'safe'}, 'sexual': {'filtered': False, 'severity': 'safe'}, 'violence': {'filtered': False, 'severity': 'safe'}}}], 'finish_reason': 'stop', 'logprobs': None, 'content_filter_results': {'hate': {'filtered': False, 'severity': 'safe'}, 'self_harm': {'filtered': False, 'severity': 'safe'}, 'sexual': {'filtered': False, 'severity': 'safe'}, 'violence': {'filtered': False, 'severity': 'safe'}}}, id='run--c83d64fd-6135-43cf-b289-99c5b6ea02c5-0', usage_metadata={'input_tokens': 14, 'output_tokens': 19, 'total_tokens': 33, 'input_token_details': {'audio': 0, 'cache_read': 0}, 'output_token_details': {'audio': 0, 'reasoning': 0}}), HumanMessage(content='What is my name?', additional_kwargs={}, response_metadata={}, id='d6a94178-c5c6-4078-9596-017686fe88a9'), AIMessage(content='Your name is Jack! 😊 ', additional_kwargs={'refusal': None}, response_metadata={'token_usage': {'completion_tokens': 8, 'prompt_tokens': 45, 'total_tokens': 53, 'completion_tokens_details': {'accepted_prediction_tokens': 0, 'audio_tokens': 0, 'reasoning_tokens': 0, 'rejected_prediction_tokens': 0}, 'prompt_tokens_details': {'audio_tokens': 0, 'cached_tokens': 0}}, 'model_name': 'gpt-4o-2024-11-20', 'system_fingerprint': 'fp_ee1d74bde0', 'id': 'chatcmpl-BZVmlk5ry198Dpsz4LAuvgrWrTZ1q', 'service_tier': None, 'prompt_filter_results': [{'prompt_index': 0, 'content_filter_results': {'hate': {'filtered': False, 'severity': 'safe'}, 'self_harm': {'filtered': False, 'severity': 'safe'}, 'sexual': {'filtered': False, 'severity': 'safe'}, 'violence': {'filtered': False, 'severity': 'safe'}}}], 'finish_reason': 'stop', 'logprobs': None, 'content_filter_results': {'hate': {'filtered': False, 'severity': 'safe'}, 'self_harm': {'filtered': False, 'severity': 'safe'}, 'sexual': {'filtered': False, 'severity': 'safe'}, 'violence': {'filtered': False, 'severity': 'safe'}}}, id='run--384c7c21-48e9-4721-97f1-3fbc7227e476-0', usage_metadata={'input_tokens': 45, 'output_tokens': 8, 'total_tokens': 53, 'input_token_details': {'audio': 0, 'cache_read': 0}, 'output_token_details': {'audio': 0, 'reasoning': 0}}), HumanMessage(content='hi, my name is Jack!', additional_kwargs={}, response_metadata={}, id='8ba3ba46-a6a8-44fa-b2bd-47159b95a4f9'), AIMessage(content='Hi again, Jack! 😊 How can I assist you today?', additional_kwargs={'refusal': None}, response_metadata={'token_usage': {'completion_tokens': 14, 'prompt_tokens': 67, 'total_tokens': 81, 'completion_tokens_details': {'accepted_prediction_tokens': 0, 'audio_tokens': 0, 'reasoning_tokens': 0, 'rejected_prediction_tokens': 0}, 'prompt_tokens_details': {'audio_tokens': 0, 'cached_tokens': 0}}, 'model_name': 'gpt-4o-2024-11-20', 'system_fingerprint': 'fp_ee1d74bde0', 'id': 'chatcmpl-BZVnlLlpoK5zZY6mhFIKyd8XBIgxe', 'service_tier': None, 'prompt_filter_results': [{'prompt_index': 0, 'content_filter_results': {'hate': {'filtered': False, 'severity': 'safe'}, 'self_harm': {'filtered': False, 'severity': 'safe'}, 'sexual': {'filtered': False, 'severity': 'safe'}, 'violence': {'filtered': False, 'severity': 'safe'}}}], 'finish_reason': 'stop', 'logprobs': None, 'content_filter_results': {'hate': {'filtered': False, 'severity': 'safe'}, 'self_harm': {'filtered': False, 'severity': 'safe'}, 'sexual': {'filtered': False, 'severity': 'safe'}, 'violence': {'filtered': False, 'severity': 'safe'}}}, id='run--9774a0b2-37f5-4061-a61e-7e845dd74a76-0', usage_metadata={'input_tokens': 67, 'output_tokens': 14, 'total_tokens': 81, 'input_token_details': {'audio': 0, 'cache_read': 0}, 'output_token_details': {'audio': 0, 'reasoning': 0}}), HumanMessage(content='What is my name?', additional_kwargs={}, response_metadata={}, id='5ca33186-c9e9-4213-9a04-cbe0fae83cda'), AIMessage(content='Your name is Jack! 😊', additional_kwargs={'refusal': None}, response_metadata={'token_usage': {'completion_tokens': 7, 'prompt_tokens': 93, 'total_tokens': 100, 'completion_tokens_details': {'accepted_prediction_tokens': 0, 'audio_tokens': 0, 'reasoning_tokens': 0, 'rejected_prediction_tokens': 0}, 'prompt_tokens_details': {'audio_tokens': 0, 'cached_tokens': 0}}, 'model_name': 'gpt-4o-2024-11-20', 'system_fingerprint': 'fp_ee1d74bde0', 'id': 'chatcmpl-BZVnoIl7F2MLyUEiULwj4PnXJG3Rj', 'service_tier': None, 'prompt_filter_results': [{'prompt_index': 0, 'content_filter_results': {'hate': {'filtered': False, 'severity': 'safe'}, 'self_harm': {'filtered': False, 'severity': 'safe'}, 'sexual': {'filtered': False, 'severity': 'safe'}, 'violence': {'filtered': False, 'severity': 'safe'}}}], 'finish_reason': 'stop', 'logprobs': None, 'content_filter_results': {'hate': {'filtered': False, 'severity': 'safe'}, 'self_harm': {'filtered': False, 'severity': 'safe'}, 'sexual': {'filtered': False, 'severity': 'safe'}, 'violence': {'filtered': False, 'severity': 'safe'}}}, id='run--8d587fc7-c167-4c52-8942-b9603a9f7414-0', usage_metadata={'input_tokens': 93, 'output_tokens': 7, 'total_tokens': 100, 'input_token_details': {'audio': 0, 'cache_read': 0}, 'output_token_details': {'audio': 0, 'reasoning': 0}})]}, next=(), config={'configurable': {'thread_id': '1', 'checkpoint_ns': '', 'checkpoint_id': '1f036000-ce64-63fd-800a-b852c13173a4'}}, metadata={'source': 'loop', 'writes': {'chatbot': {'messages': [AIMessage(content='Your name is Jack! 😊', additional_kwargs={'refusal': None}, response_metadata={'token_usage': {'completion_tokens': 7, 'prompt_tokens': 93, 'total_tokens': 100, 'completion_tokens_details': {'accepted_prediction_tokens': 0, 'audio_tokens': 0, 'reasoning_tokens': 0, 'rejected_prediction_tokens': 0}, 'prompt_tokens_details': {'audio_tokens': 0, 'cached_tokens': 0}}, 'model_name': 'gpt-4o-2024-11-20', 'system_fingerprint': 'fp_ee1d74bde0', 'id': 'chatcmpl-BZVnoIl7F2MLyUEiULwj4PnXJG3Rj', 'service_tier': None, 'prompt_filter_results': [{'prompt_index': 0, 'content_filter_results': {'hate': {'filtered': False, 'severity': 'safe'}, 'self_harm': {'filtered': False, 'severity': 'safe'}, 'sexual': {'filtered': False, 'severity': 'safe'}, 'violence': {'filtered': False, 'severity': 'safe'}}}], 'finish_reason': 'stop', 'logprobs': None, 'content_filter_results': {'hate': {'filtered': False, 'severity': 'safe'}, 'self_harm': {'filtered': False, 'severity': 'safe'}, 'sexual': {'filtered': False, 'severity': 'safe'}, 'violence': {'filtered': False, 'severity': 'safe'}}}, id='run--8d587fc7-c167-4c52-8942-b9603a9f7414-0', usage_metadata={'input_tokens': 93, 'output_tokens': 7, 'total_tokens': 100, 'input_token_details': {'audio': 0, 'cache_read': 0}, 'output_token_details': {'audio': 0, 'reasoning': 0}})]}}, 'step': 10, 'parents': {}, 'thread_id': '1'}, created_at='2025-05-21T04:57:09.280199+00:00', parent_config={'configurable': {'thread_id': '1', 'checkpoint_ns': '', 'checkpoint_id': '1f036000-cb28-6527-8009-25042486fb86'}}, tasks=(), interrupts=())"
      ]
     },
     "execution_count": 46,
     "metadata": {},
     "output_type": "execute_result"
    }
   ],
   "source": [
    "graph.get_state(thread1)"
   ]
  },
  {
   "cell_type": "markdown",
   "id": "5b20d32c",
   "metadata": {},
   "source": [
    "To update the state you can do the following:"
   ]
  },
  {
   "cell_type": "code",
   "execution_count": null,
   "id": "5d0d6148",
   "metadata": {},
   "outputs": [
    {
     "data": {
      "text/plain": [
       "{'configurable': {'thread_id': '1',\n",
       "  'checkpoint_ns': '',\n",
       "  'checkpoint_id': '1f036011-6b25-63b2-800b-bbd764f0a77b'}}"
      ]
     },
     "execution_count": 48,
     "metadata": {},
     "output_type": "execute_result"
    }
   ],
   "source": [
    "graph.update_state(config=thread1, values={\"message\": [HumanMessage('I like LLMs!')]})\n",
    "# This would add one more message to the list of messages in the state, to be used the next\n",
    "# time you invoke the graph on this thread.\n",
    "\n",
    "# show the update:"
   ]
  },
  {
   "cell_type": "code",
   "execution_count": 49,
   "id": "026ed25f",
   "metadata": {},
   "outputs": [
    {
     "data": {
      "text/plain": [
       "StateSnapshot(values={'messages': [HumanMessage(content='hi, my name is Jack!', additional_kwargs={}, response_metadata={}, id='301cb710-faf5-4be3-bd45-79407ba727ab'), AIMessage(content='Hi Jack! 👋 Nice to meet you! How can I help you today? 😊', additional_kwargs={'refusal': None}, response_metadata={'token_usage': {'completion_tokens': 19, 'prompt_tokens': 14, 'total_tokens': 33, 'completion_tokens_details': {'accepted_prediction_tokens': 0, 'audio_tokens': 0, 'reasoning_tokens': 0, 'rejected_prediction_tokens': 0}, 'prompt_tokens_details': {'audio_tokens': 0, 'cached_tokens': 0}}, 'model_name': 'gpt-4o-2024-11-20', 'system_fingerprint': 'fp_ee1d74bde0', 'id': 'chatcmpl-BZVmkvk5LZbQWYDywotFQO2TSrYTj', 'service_tier': None, 'prompt_filter_results': [{'prompt_index': 0, 'content_filter_results': {'hate': {'filtered': False, 'severity': 'safe'}, 'self_harm': {'filtered': False, 'severity': 'safe'}, 'sexual': {'filtered': False, 'severity': 'safe'}, 'violence': {'filtered': False, 'severity': 'safe'}}}], 'finish_reason': 'stop', 'logprobs': None, 'content_filter_results': {'hate': {'filtered': False, 'severity': 'safe'}, 'self_harm': {'filtered': False, 'severity': 'safe'}, 'sexual': {'filtered': False, 'severity': 'safe'}, 'violence': {'filtered': False, 'severity': 'safe'}}}, id='run--c83d64fd-6135-43cf-b289-99c5b6ea02c5-0', usage_metadata={'input_tokens': 14, 'output_tokens': 19, 'total_tokens': 33, 'input_token_details': {'audio': 0, 'cache_read': 0}, 'output_token_details': {'audio': 0, 'reasoning': 0}}), HumanMessage(content='What is my name?', additional_kwargs={}, response_metadata={}, id='d6a94178-c5c6-4078-9596-017686fe88a9'), AIMessage(content='Your name is Jack! 😊 ', additional_kwargs={'refusal': None}, response_metadata={'token_usage': {'completion_tokens': 8, 'prompt_tokens': 45, 'total_tokens': 53, 'completion_tokens_details': {'accepted_prediction_tokens': 0, 'audio_tokens': 0, 'reasoning_tokens': 0, 'rejected_prediction_tokens': 0}, 'prompt_tokens_details': {'audio_tokens': 0, 'cached_tokens': 0}}, 'model_name': 'gpt-4o-2024-11-20', 'system_fingerprint': 'fp_ee1d74bde0', 'id': 'chatcmpl-BZVmlk5ry198Dpsz4LAuvgrWrTZ1q', 'service_tier': None, 'prompt_filter_results': [{'prompt_index': 0, 'content_filter_results': {'hate': {'filtered': False, 'severity': 'safe'}, 'self_harm': {'filtered': False, 'severity': 'safe'}, 'sexual': {'filtered': False, 'severity': 'safe'}, 'violence': {'filtered': False, 'severity': 'safe'}}}], 'finish_reason': 'stop', 'logprobs': None, 'content_filter_results': {'hate': {'filtered': False, 'severity': 'safe'}, 'self_harm': {'filtered': False, 'severity': 'safe'}, 'sexual': {'filtered': False, 'severity': 'safe'}, 'violence': {'filtered': False, 'severity': 'safe'}}}, id='run--384c7c21-48e9-4721-97f1-3fbc7227e476-0', usage_metadata={'input_tokens': 45, 'output_tokens': 8, 'total_tokens': 53, 'input_token_details': {'audio': 0, 'cache_read': 0}, 'output_token_details': {'audio': 0, 'reasoning': 0}}), HumanMessage(content='hi, my name is Jack!', additional_kwargs={}, response_metadata={}, id='8ba3ba46-a6a8-44fa-b2bd-47159b95a4f9'), AIMessage(content='Hi again, Jack! 😊 How can I assist you today?', additional_kwargs={'refusal': None}, response_metadata={'token_usage': {'completion_tokens': 14, 'prompt_tokens': 67, 'total_tokens': 81, 'completion_tokens_details': {'accepted_prediction_tokens': 0, 'audio_tokens': 0, 'reasoning_tokens': 0, 'rejected_prediction_tokens': 0}, 'prompt_tokens_details': {'audio_tokens': 0, 'cached_tokens': 0}}, 'model_name': 'gpt-4o-2024-11-20', 'system_fingerprint': 'fp_ee1d74bde0', 'id': 'chatcmpl-BZVnlLlpoK5zZY6mhFIKyd8XBIgxe', 'service_tier': None, 'prompt_filter_results': [{'prompt_index': 0, 'content_filter_results': {'hate': {'filtered': False, 'severity': 'safe'}, 'self_harm': {'filtered': False, 'severity': 'safe'}, 'sexual': {'filtered': False, 'severity': 'safe'}, 'violence': {'filtered': False, 'severity': 'safe'}}}], 'finish_reason': 'stop', 'logprobs': None, 'content_filter_results': {'hate': {'filtered': False, 'severity': 'safe'}, 'self_harm': {'filtered': False, 'severity': 'safe'}, 'sexual': {'filtered': False, 'severity': 'safe'}, 'violence': {'filtered': False, 'severity': 'safe'}}}, id='run--9774a0b2-37f5-4061-a61e-7e845dd74a76-0', usage_metadata={'input_tokens': 67, 'output_tokens': 14, 'total_tokens': 81, 'input_token_details': {'audio': 0, 'cache_read': 0}, 'output_token_details': {'audio': 0, 'reasoning': 0}}), HumanMessage(content='What is my name?', additional_kwargs={}, response_metadata={}, id='5ca33186-c9e9-4213-9a04-cbe0fae83cda'), AIMessage(content='Your name is Jack! 😊', additional_kwargs={'refusal': None}, response_metadata={'token_usage': {'completion_tokens': 7, 'prompt_tokens': 93, 'total_tokens': 100, 'completion_tokens_details': {'accepted_prediction_tokens': 0, 'audio_tokens': 0, 'reasoning_tokens': 0, 'rejected_prediction_tokens': 0}, 'prompt_tokens_details': {'audio_tokens': 0, 'cached_tokens': 0}}, 'model_name': 'gpt-4o-2024-11-20', 'system_fingerprint': 'fp_ee1d74bde0', 'id': 'chatcmpl-BZVnoIl7F2MLyUEiULwj4PnXJG3Rj', 'service_tier': None, 'prompt_filter_results': [{'prompt_index': 0, 'content_filter_results': {'hate': {'filtered': False, 'severity': 'safe'}, 'self_harm': {'filtered': False, 'severity': 'safe'}, 'sexual': {'filtered': False, 'severity': 'safe'}, 'violence': {'filtered': False, 'severity': 'safe'}}}], 'finish_reason': 'stop', 'logprobs': None, 'content_filter_results': {'hate': {'filtered': False, 'severity': 'safe'}, 'self_harm': {'filtered': False, 'severity': 'safe'}, 'sexual': {'filtered': False, 'severity': 'safe'}, 'violence': {'filtered': False, 'severity': 'safe'}}}, id='run--8d587fc7-c167-4c52-8942-b9603a9f7414-0', usage_metadata={'input_tokens': 93, 'output_tokens': 7, 'total_tokens': 100, 'input_token_details': {'audio': 0, 'cache_read': 0}, 'output_token_details': {'audio': 0, 'reasoning': 0}})]}, next=(), config={'configurable': {'thread_id': '1', 'checkpoint_ns': '', 'checkpoint_id': '1f036011-6b25-63b2-800b-bbd764f0a77b'}}, metadata={'source': 'update', 'writes': {'chatbot': {'message': [HumanMessage(content='I like LLMs!', additional_kwargs={}, response_metadata={})]}}, 'step': 11, 'parents': {}, 'thread_id': '1'}, created_at='2025-05-21T05:04:35.213779+00:00', parent_config={'configurable': {'thread_id': '1', 'checkpoint_ns': '', 'checkpoint_id': '1f036000-ce64-63fd-800a-b852c13173a4'}}, tasks=(), interrupts=())"
      ]
     },
     "execution_count": 49,
     "metadata": {},
     "output_type": "execute_result"
    }
   ],
   "source": [
    "graph.get_state(thread1)"
   ]
  },
  {
   "cell_type": "markdown",
   "id": "63c2d73d",
   "metadata": {},
   "source": [
    "## Modifying chat history\n",
    "As previous messages aren't in the best state or format to generate an accurate response from the model.\n",
    "There are 3 methods:\n",
    "1. Trimming\n",
    "2. Filtering\n",
    "3. Merging"
   ]
  },
  {
   "cell_type": "markdown",
   "id": "761b2fab",
   "metadata": {},
   "source": [
    "### "
   ]
  },
  {
   "cell_type": "markdown",
   "id": "1c99c965",
   "metadata": {},
   "source": [
    "### Trimming"
   ]
  },
  {
   "cell_type": "code",
   "execution_count": 1,
   "id": "df54fe28",
   "metadata": {},
   "outputs": [
    {
     "data": {
      "text/plain": [
       "[SystemMessage(content=\"you're a good assistant\", additional_kwargs={}, response_metadata={}),\n",
       " HumanMessage(content=\"what's 2 + 2\", additional_kwargs={}, response_metadata={}),\n",
       " AIMessage(content='4', additional_kwargs={}, response_metadata={}),\n",
       " HumanMessage(content='thanks', additional_kwargs={}, response_metadata={}),\n",
       " AIMessage(content='no problem!', additional_kwargs={}, response_metadata={}),\n",
       " HumanMessage(content='having fun?', additional_kwargs={}, response_metadata={}),\n",
       " AIMessage(content='yes!', additional_kwargs={}, response_metadata={})]"
      ]
     },
     "execution_count": 1,
     "metadata": {},
     "output_type": "execute_result"
    }
   ],
   "source": [
    "# This basically involves loading and storing the most recent messages. Langchain does offer a trim message method\n",
    "from langchain_core.messages import SystemMessage, HumanMessage, AIMessage,trim_messages\n",
    "from langchain_openai import AzureChatOpenAI\n",
    "\n",
    "trimmer = trim_messages(\n",
    "    max_tokens=65,\n",
    "    strategy=\"last\",\n",
    "    token_counter=AzureChatOpenAI(azure_deployment=\"gpt-4o\", api_version=\"2024-10-21\",model=\"gpt-4o\"),\n",
    "    include_system=True,\n",
    "    allow_partial=False,\n",
    "    start_on=\"human\",\n",
    ")\n",
    "\n",
    "messages = [\n",
    "    SystemMessage(content=\"you're a good assistant\"),\n",
    "    HumanMessage(content=\"hi! I'm bob\"),\n",
    "    AIMessage(content=\"hi!\"),\n",
    "    HumanMessage(content=\"I like vanilla ice cream\"),\n",
    "    AIMessage(content=\"nice\"),\n",
    "    HumanMessage(content=\"what's 2 + 2\"),\n",
    "    AIMessage(content=\"4\"),\n",
    "    HumanMessage(content=\"thanks\"),\n",
    "    AIMessage(content=\"no problem!\"),\n",
    "    HumanMessage(content=\"having fun?\"),\n",
    "    AIMessage(content=\"yes!\"),\n",
    "]\n",
    "\n",
    "trimmer.invoke(messages)"
   ]
  },
  {
   "cell_type": "markdown",
   "id": "6e8f25b2",
   "metadata": {},
   "source": [
    "#### Key Parameters and Their Descriptions\n",
    "\n",
    "- **`strategy`**  \n",
    "  Determines whether trimming should start from the beginning or the end of the list.  \n",
    "  In most cases, it’s best to preserve the most recent messages and discard older ones that don't fit.  \n",
    "  To enable this behavior, set `strategy=\"last\"`.  \n",
    "  Alternatively, use `strategy=\"first\"` to keep the earliest messages and trim newer ones if necessary.\n",
    "\n",
    "- **`token_counter`**  \n",
    "  Refers to the language or chat model used for token counting, utilizing its specific tokenizer to measure token usage accurately.\n",
    "\n",
    "- **`include_system=True`**  \n",
    "  When this parameter is set, the system message is preserved during trimming operations.\n",
    "\n",
    "- **`allow_partial`**  \n",
    "  Controls whether the last message can be partially truncated to stay within the token limit.  \n",
    "  In the provided example, this is set to `false`, which removes the entire message if it would exceed the limit, rather than trimming part of it.\n",
    "\n",
    "- **`start_on=\"human\"`**  \n",
    "  Ensures that a model’s response (`AIMessage`) is not retained without its corresponding user input (`HumanMessage`).  \n",
    "  If removal is necessary, both the user message and the AI response are removed together to maintain context.\n"
   ]
  },
  {
   "cell_type": "markdown",
   "id": "80ebc29c",
   "metadata": {},
   "source": [
    "### Filtering Messages\n",
    "As the list of chat history messages increases, you may start working with a broader range of message types, subchains, and models.  \n",
    "To simplify the process of selecting specific messages, LangChain provides the `filter_messages` helper function, which allows filtering messages based on type, ID, or name.\n",
    "\n",
    "Here’s an example of how to filter only human messages:\n"
   ]
  },
  {
   "cell_type": "code",
   "execution_count": 2,
   "id": "c6a0011a",
   "metadata": {},
   "outputs": [
    {
     "data": {
      "text/plain": [
       "[HumanMessage(content='example input', additional_kwargs={}, response_metadata={}, name='example_user', id='2'),\n",
       " HumanMessage(content='real input', additional_kwargs={}, response_metadata={}, name='bob', id='4')]"
      ]
     },
     "execution_count": 2,
     "metadata": {},
     "output_type": "execute_result"
    }
   ],
   "source": [
    "from langchain_core.messages import (\n",
    "    AIMessage,\n",
    "    HumanMessage,\n",
    "    SystemMessage,\n",
    "    filter_messages,\n",
    ")\n",
    "\n",
    "messages = [\n",
    "    SystemMessage(\"you are a good assistant\", id=\"1\"),\n",
    "    HumanMessage(\"example input\", id=\"2\", name=\"example_user\"),\n",
    "    AIMessage(\"example output\", id=\"3\", name=\"example_assistant\"),\n",
    "    HumanMessage(\"real input\", id=\"4\", name=\"bob\"),\n",
    "    AIMessage(\"real output\", id=\"5\", name=\"alice\"),\n",
    "]\n",
    "\n",
    "filter_messages(messages=messages, include_types=\"human\")"
   ]
  },
  {
   "cell_type": "markdown",
   "id": "0d849c64",
   "metadata": {},
   "source": [
    "Let's try another example where the filter is used to exclude users and IDs, and include message types:"
   ]
  },
  {
   "cell_type": "code",
   "execution_count": 3,
   "id": "2bc2a8cd",
   "metadata": {},
   "outputs": [
    {
     "data": {
      "text/plain": [
       "[SystemMessage(content='you are a good assistant', additional_kwargs={}, response_metadata={}, id='1'),\n",
       " HumanMessage(content='real input', additional_kwargs={}, response_metadata={}, name='bob', id='4'),\n",
       " AIMessage(content='real output', additional_kwargs={}, response_metadata={}, name='alice', id='5')]"
      ]
     },
     "execution_count": 3,
     "metadata": {},
     "output_type": "execute_result"
    }
   ],
   "source": [
    "filter_messages(messages=messages, exclude_names=[\"example_user\", \"example_assistant\"])"
   ]
  },
  {
   "cell_type": "code",
   "execution_count": 4,
   "id": "8526ecc1",
   "metadata": {},
   "outputs": [
    {
     "data": {
      "text/plain": [
       "[HumanMessage(content='example input', additional_kwargs={}, response_metadata={}, name='example_user', id='2'),\n",
       " HumanMessage(content='real input', additional_kwargs={}, response_metadata={}, name='bob', id='4'),\n",
       " AIMessage(content='real output', additional_kwargs={}, response_metadata={}, name='alice', id='5')]"
      ]
     },
     "execution_count": 4,
     "metadata": {},
     "output_type": "execute_result"
    }
   ],
   "source": [
    "filter_messages(\n",
    "    messages=messages,\n",
    "    include_types=[HumanMessage, AIMessage],\n",
    "    exclude_ids = [\"3\"]\n",
    "    )"
   ]
  },
  {
   "cell_type": "markdown",
   "id": "a72278f6",
   "metadata": {},
   "source": [
    "The **filter_messages** function can be used imperatively or declaratively, making it easy to use in cojunction with other component of a chain."
   ]
  },
  {
   "cell_type": "code",
   "execution_count": 5,
   "id": "d197fa3b",
   "metadata": {},
   "outputs": [],
   "source": [
    "model = AzureChatOpenAI(azure_deployment=\"gpt-4o\", api_version=\"2024-10-21\",model=\"gpt-4o\")\n",
    "\n",
    "filter_ = filter_messages(exclude_names=[\"example_user\", \"example_assistant\"])\n",
    "\n",
    "chain = filter_ | model"
   ]
  },
  {
   "cell_type": "markdown",
   "id": "6d7c2353",
   "metadata": {},
   "source": [
    "### Merging Consecutive Messages\n",
    "Some models, such as Anthropic's chat models, do not support consecutive messages of the same type as input.  \n",
    "To address this, LangChain provides the `merge_message_runs` utility, which helps by merging consecutive messages of the same type into a single message.\n"
   ]
  },
  {
   "cell_type": "code",
   "execution_count": 6,
   "id": "ec5ca529",
   "metadata": {},
   "outputs": [
    {
     "data": {
      "text/plain": [
       "[SystemMessage(content=\"you're a good assistant.\\nyou always respond with a joke.\", additional_kwargs={}, response_metadata={}),\n",
       " HumanMessage(content=[{'type': 'text', 'text': \"i wonder why it's called langchain\"}, 'and who is harrison chasing anyway'], additional_kwargs={}, response_metadata={}),\n",
       " AIMessage(content='Well, I guess they thought \"WordRope\" and \"SentenceString\" just \\n        didn\\'t have the same ring to it!\\nWhy, he\\'s probably chasing after the last cup of coffee in the \\n        office!', additional_kwargs={}, response_metadata={})]"
      ]
     },
     "execution_count": 6,
     "metadata": {},
     "output_type": "execute_result"
    }
   ],
   "source": [
    "from langchain_core.messages import (\n",
    "    AIMessage,\n",
    "    HumanMessage,\n",
    "    SystemMessage,\n",
    "    merge_message_runs,\n",
    ")\n",
    "\n",
    "messages = [\n",
    "    SystemMessage(\"you're a good assistant.\"),\n",
    "    SystemMessage(\"you always respond with a joke.\"),\n",
    "    HumanMessage(\n",
    "        [{\"type\": \"text\", \"text\": \"i wonder why it's called langchain\"}]\n",
    "    ),\n",
    "    HumanMessage(\"and who is harrison chasing anyway\"),\n",
    "    AIMessage(\n",
    "        '''Well, I guess they thought \"WordRope\" and \"SentenceString\" just \n",
    "        didn\\'t have the same ring to it!'''\n",
    "    ),\n",
    "    AIMessage(\"\"\"Why, he's probably chasing after the last cup of coffee in the \n",
    "        office!\"\"\"),\n",
    "]\n",
    "\n",
    "merge_message_runs(messages=messages)"
   ]
  },
  {
   "cell_type": "markdown",
   "id": "5c2042c7",
   "metadata": {},
   "source": [
    "This utility can also be used imperatively or declaratively, making it easy to compose with other components in a chain:"
   ]
  },
  {
   "cell_type": "code",
   "execution_count": 7,
   "id": "6347b594",
   "metadata": {},
   "outputs": [],
   "source": [
    "model = AzureChatOpenAI(azure_deployment=\"gpt-4o\", api_version=\"2024-10-21\",model=\"gpt-4o\")\n",
    "merger = merge_message_runs()\n",
    "chain = merger | model"
   ]
  },
  {
   "cell_type": "markdown",
   "id": "97032c9e",
   "metadata": {},
   "source": [
    "Let's go back to the [main file](../README.md/#Cognitive-Architectures-with-LangGraph)."
   ]
  },
  {
   "cell_type": "markdown",
   "id": "c4d12f0c",
   "metadata": {},
   "source": []
  }
 ],
 "metadata": {
  "kernelspec": {
   "display_name": ".env",
   "language": "python",
   "name": "python3"
  },
  "language_info": {
   "codemirror_mode": {
    "name": "ipython",
    "version": 3
   },
   "file_extension": ".py",
   "mimetype": "text/x-python",
   "name": "python",
   "nbconvert_exporter": "python",
   "pygments_lexer": "ipython3",
   "version": "3.12.3"
  }
 },
 "nbformat": 4,
 "nbformat_minor": 5
}
