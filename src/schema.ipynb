{
 "cells": [
  {
   "cell_type": "code",
   "execution_count": 1,
   "id": "33edfd8c",
   "metadata": {},
   "outputs": [],
   "source": [
    "from pydantic import BaseModel, Field\n",
    "\n",
    "class Joke(BaseModel):\n",
    "    setup: str = Field(description=\"The setup of the joke\")\n",
    "    punchline: str = Field(description=\"The punchline to the joke\")"
   ]
  },
  {
   "cell_type": "markdown",
   "id": "b5c82e97",
   "metadata": {},
   "source": [
    "Notice how we take care to add a **description to each field** in the schema.\n",
    "\n",
    "This is important because:\n",
    "\n",
    "- The **field name** and **description** are the primary clues the LLM uses  \n",
    "  to determine what part of the output should be placed in each field.\n",
    "- Well-written descriptions improve the **accuracy and consistency** of the structured output.\n",
    "\n",
    "---\n",
    "\n",
    "Alternatively, instead of using a class-based or model-based schema,  \n",
    "we can define the schema directly using **raw JSONSchema notation**.\n",
    "\n",
    "Here’s what that might look like:"
   ]
  },
  {
   "cell_type": "markdown",
   "id": "49b37a58",
   "metadata": {},
   "source": [
    "```JSON\n",
    "{'properties': {'setup': {'description': 'The setup of the joke',\n",
    "    'title': 'Setup',\n",
    "    'type': 'string'},\n",
    " 'punchline': {'description': 'The punchline to the joke',\n",
    "    'title': 'Punchline',\n",
    "    'type': 'string'}},\n",
    " 'required': ['setup', 'punchline'],\n",
    " 'title': 'Joke',\n",
    " 'type': 'object'}\n",
    "```"
   ]
  },
  {
   "cell_type": "markdown",
   "id": "a7073671",
   "metadata": {},
   "source": [
    "Let's use this schema:"
   ]
  },
  {
   "cell_type": "code",
   "execution_count": 2,
   "id": "a8c3d640",
   "metadata": {},
   "outputs": [
    {
     "data": {
      "text/plain": [
       "Joke(setup='Why did the cat sit on the computer?', punchline='To keep an eye on the mouse!')"
      ]
     },
     "execution_count": 2,
     "metadata": {},
     "output_type": "execute_result"
    }
   ],
   "source": [
    "from langchain_openai import AzureChatOpenAI\n",
    "\n",
    "model = AzureChatOpenAI(model=\"gpt-4o\", temperature=0, azure_deployment=\"gpt-4o\", api_version=\"2024-10-21\") \n",
    "model = model.with_structured_output(Joke)\n",
    "\n",
    "model.invoke(\"Tell me a joke about cats\")"
   ]
  },
  {
   "cell_type": "markdown",
   "id": "3a002559",
   "metadata": {},
   "source": [
    "A couple of things to notice when working with structured output:\n",
    "\n",
    "- We start by **creating the model instance** as usual, specifying:\n",
    "  - The **model name**\n",
    "  - Other parameters such as temperature\n",
    "\n",
    "- A **low temperature** is typically recommended for structured output.  \n",
    "  This reduces the likelihood of the LLM generating invalid or unpredictable output  \n",
    "  that fails to conform to the schema.\n",
    "\n",
    "- We then **attach the schema** to the model using `.with_structured_output`.  \n",
    "  This returns a new model object that is configured to:\n",
    "  - Produce output matching the schema\n",
    "  - Perform **validation** using the provided schema object (e.g., Pydantic or Zod)\n",
    "\n",
    "- If the LLM’s output **does not match the schema**, a **validation error** will be raised  \n",
    "  instead of silently returning incorrect data.\n",
    "\n",
    "- Finally, we **invoke the model** with our free-form input  \n",
    "  and receive a **structured response** that conforms to the schema.\n",
    "\n",
    "This approach helps ensure that outputs are **reliable**, **machine-readable**, and **safe to use in downstream applications**.\n",
    "\n",
    "Let's see the [next approach](../README.md#intermediate-output)"
   ]
  }
 ],
 "metadata": {
  "kernelspec": {
   "display_name": ".env",
   "language": "python",
   "name": "python3"
  },
  "language_info": {
   "codemirror_mode": {
    "name": "ipython",
    "version": 3
   },
   "file_extension": ".py",
   "mimetype": "text/x-python",
   "name": "python",
   "nbconvert_exporter": "python",
   "pygments_lexer": "ipython3",
   "version": "3.12.3"
  }
 },
 "nbformat": 4,
 "nbformat_minor": 5
}
